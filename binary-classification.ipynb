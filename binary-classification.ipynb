{
 "cells": [
  {
   "cell_type": "code",
   "execution_count": 1,
   "id": "78cfc02d",
   "metadata": {
    "_cell_guid": "b1076dfc-b9ad-4769-8c92-a6c4dae69d19",
    "_uuid": "8f2839f25d086af736a60e9eeb907d3b93b6e0e5",
    "execution": {
     "iopub.execute_input": "2025-08-19T18:17:10.776394Z",
     "iopub.status.busy": "2025-08-19T18:17:10.776083Z",
     "iopub.status.idle": "2025-08-19T18:17:14.167606Z",
     "shell.execute_reply": "2025-08-19T18:17:14.166775Z"
    },
    "papermill": {
     "duration": 3.397653,
     "end_time": "2025-08-19T18:17:14.169123",
     "exception": false,
     "start_time": "2025-08-19T18:17:10.771470",
     "status": "completed"
    },
    "tags": []
   },
   "outputs": [],
   "source": [
    "import numpy as np # linear algebra\n",
    "import pandas as pd # data processing, CSV file I/O (e.g. pd.read_csv)\n",
    "import matplotlib.pyplot as plt\n",
    "import seaborn as sns\n",
    "\n",
    "from sklearn.preprocessing import OneHotEncoder, LabelEncoder\n",
    "from sklearn.model_selection import train_test_split, GridSearchCV, cross_val_score, StratifiedKFold\n",
    "from sklearn.ensemble import RandomForestClassifier\n",
    "from sklearn.metrics import roc_auc_score\n"
   ]
  },
  {
   "cell_type": "code",
   "execution_count": 2,
   "id": "a2158e1d",
   "metadata": {
    "execution": {
     "iopub.execute_input": "2025-08-19T18:17:14.176674Z",
     "iopub.status.busy": "2025-08-19T18:17:14.175909Z",
     "iopub.status.idle": "2025-08-19T18:17:16.897849Z",
     "shell.execute_reply": "2025-08-19T18:17:16.897013Z"
    },
    "papermill": {
     "duration": 2.726712,
     "end_time": "2025-08-19T18:17:16.899117",
     "exception": false,
     "start_time": "2025-08-19T18:17:14.172405",
     "status": "completed"
    },
    "tags": []
   },
   "outputs": [
    {
     "name": "stdout",
     "output_type": "stream",
     "text": [
      "(750000, 17)\n",
      "(250000, 16)\n"
     ]
    }
   ],
   "source": [
    "# read the data\n",
    "\n",
    "train_data = pd.read_csv('/kaggle/input/playground-series-s5e8/train.csv', index_col = \"id\")\n",
    "test_data = pd.read_csv('/kaggle/input/playground-series-s5e8/test.csv', index_col = \"id\")\n",
    "sample_sub = pd.read_csv('/kaggle/input/playground-series-s5e8/sample_submission.csv')\n",
    "print(train_data.shape)\n",
    "print(test_data.shape)\n"
   ]
  },
  {
   "cell_type": "code",
   "execution_count": 3,
   "id": "6d5b4358",
   "metadata": {
    "execution": {
     "iopub.execute_input": "2025-08-19T18:17:16.906632Z",
     "iopub.status.busy": "2025-08-19T18:17:16.906049Z",
     "iopub.status.idle": "2025-08-19T18:17:16.930564Z",
     "shell.execute_reply": "2025-08-19T18:17:16.929804Z"
    },
    "papermill": {
     "duration": 0.029355,
     "end_time": "2025-08-19T18:17:16.931743",
     "exception": false,
     "start_time": "2025-08-19T18:17:16.902388",
     "status": "completed"
    },
    "tags": []
   },
   "outputs": [
    {
     "data": {
      "text/html": [
       "<div>\n",
       "<style scoped>\n",
       "    .dataframe tbody tr th:only-of-type {\n",
       "        vertical-align: middle;\n",
       "    }\n",
       "\n",
       "    .dataframe tbody tr th {\n",
       "        vertical-align: top;\n",
       "    }\n",
       "\n",
       "    .dataframe thead th {\n",
       "        text-align: right;\n",
       "    }\n",
       "</style>\n",
       "<table border=\"1\" class=\"dataframe\">\n",
       "  <thead>\n",
       "    <tr style=\"text-align: right;\">\n",
       "      <th></th>\n",
       "      <th>age</th>\n",
       "      <th>job</th>\n",
       "      <th>marital</th>\n",
       "      <th>education</th>\n",
       "      <th>default</th>\n",
       "      <th>balance</th>\n",
       "      <th>housing</th>\n",
       "      <th>loan</th>\n",
       "      <th>contact</th>\n",
       "      <th>day</th>\n",
       "      <th>month</th>\n",
       "      <th>duration</th>\n",
       "      <th>campaign</th>\n",
       "      <th>pdays</th>\n",
       "      <th>previous</th>\n",
       "      <th>poutcome</th>\n",
       "      <th>y</th>\n",
       "    </tr>\n",
       "    <tr>\n",
       "      <th>id</th>\n",
       "      <th></th>\n",
       "      <th></th>\n",
       "      <th></th>\n",
       "      <th></th>\n",
       "      <th></th>\n",
       "      <th></th>\n",
       "      <th></th>\n",
       "      <th></th>\n",
       "      <th></th>\n",
       "      <th></th>\n",
       "      <th></th>\n",
       "      <th></th>\n",
       "      <th></th>\n",
       "      <th></th>\n",
       "      <th></th>\n",
       "      <th></th>\n",
       "      <th></th>\n",
       "    </tr>\n",
       "  </thead>\n",
       "  <tbody>\n",
       "    <tr>\n",
       "      <th>0</th>\n",
       "      <td>42</td>\n",
       "      <td>technician</td>\n",
       "      <td>married</td>\n",
       "      <td>secondary</td>\n",
       "      <td>no</td>\n",
       "      <td>7</td>\n",
       "      <td>no</td>\n",
       "      <td>no</td>\n",
       "      <td>cellular</td>\n",
       "      <td>25</td>\n",
       "      <td>aug</td>\n",
       "      <td>117</td>\n",
       "      <td>3</td>\n",
       "      <td>-1</td>\n",
       "      <td>0</td>\n",
       "      <td>unknown</td>\n",
       "      <td>0</td>\n",
       "    </tr>\n",
       "    <tr>\n",
       "      <th>1</th>\n",
       "      <td>38</td>\n",
       "      <td>blue-collar</td>\n",
       "      <td>married</td>\n",
       "      <td>secondary</td>\n",
       "      <td>no</td>\n",
       "      <td>514</td>\n",
       "      <td>no</td>\n",
       "      <td>no</td>\n",
       "      <td>unknown</td>\n",
       "      <td>18</td>\n",
       "      <td>jun</td>\n",
       "      <td>185</td>\n",
       "      <td>1</td>\n",
       "      <td>-1</td>\n",
       "      <td>0</td>\n",
       "      <td>unknown</td>\n",
       "      <td>0</td>\n",
       "    </tr>\n",
       "    <tr>\n",
       "      <th>2</th>\n",
       "      <td>36</td>\n",
       "      <td>blue-collar</td>\n",
       "      <td>married</td>\n",
       "      <td>secondary</td>\n",
       "      <td>no</td>\n",
       "      <td>602</td>\n",
       "      <td>yes</td>\n",
       "      <td>no</td>\n",
       "      <td>unknown</td>\n",
       "      <td>14</td>\n",
       "      <td>may</td>\n",
       "      <td>111</td>\n",
       "      <td>2</td>\n",
       "      <td>-1</td>\n",
       "      <td>0</td>\n",
       "      <td>unknown</td>\n",
       "      <td>0</td>\n",
       "    </tr>\n",
       "    <tr>\n",
       "      <th>3</th>\n",
       "      <td>27</td>\n",
       "      <td>student</td>\n",
       "      <td>single</td>\n",
       "      <td>secondary</td>\n",
       "      <td>no</td>\n",
       "      <td>34</td>\n",
       "      <td>yes</td>\n",
       "      <td>no</td>\n",
       "      <td>unknown</td>\n",
       "      <td>28</td>\n",
       "      <td>may</td>\n",
       "      <td>10</td>\n",
       "      <td>2</td>\n",
       "      <td>-1</td>\n",
       "      <td>0</td>\n",
       "      <td>unknown</td>\n",
       "      <td>0</td>\n",
       "    </tr>\n",
       "    <tr>\n",
       "      <th>4</th>\n",
       "      <td>26</td>\n",
       "      <td>technician</td>\n",
       "      <td>married</td>\n",
       "      <td>secondary</td>\n",
       "      <td>no</td>\n",
       "      <td>889</td>\n",
       "      <td>yes</td>\n",
       "      <td>no</td>\n",
       "      <td>cellular</td>\n",
       "      <td>3</td>\n",
       "      <td>feb</td>\n",
       "      <td>902</td>\n",
       "      <td>1</td>\n",
       "      <td>-1</td>\n",
       "      <td>0</td>\n",
       "      <td>unknown</td>\n",
       "      <td>1</td>\n",
       "    </tr>\n",
       "    <tr>\n",
       "      <th>5</th>\n",
       "      <td>24</td>\n",
       "      <td>admin.</td>\n",
       "      <td>single</td>\n",
       "      <td>secondary</td>\n",
       "      <td>no</td>\n",
       "      <td>1882</td>\n",
       "      <td>yes</td>\n",
       "      <td>no</td>\n",
       "      <td>cellular</td>\n",
       "      <td>20</td>\n",
       "      <td>apr</td>\n",
       "      <td>1010</td>\n",
       "      <td>3</td>\n",
       "      <td>-1</td>\n",
       "      <td>0</td>\n",
       "      <td>unknown</td>\n",
       "      <td>0</td>\n",
       "    </tr>\n",
       "    <tr>\n",
       "      <th>6</th>\n",
       "      <td>39</td>\n",
       "      <td>blue-collar</td>\n",
       "      <td>married</td>\n",
       "      <td>secondary</td>\n",
       "      <td>no</td>\n",
       "      <td>0</td>\n",
       "      <td>no</td>\n",
       "      <td>no</td>\n",
       "      <td>telephone</td>\n",
       "      <td>21</td>\n",
       "      <td>nov</td>\n",
       "      <td>90</td>\n",
       "      <td>1</td>\n",
       "      <td>-1</td>\n",
       "      <td>0</td>\n",
       "      <td>unknown</td>\n",
       "      <td>0</td>\n",
       "    </tr>\n",
       "    <tr>\n",
       "      <th>7</th>\n",
       "      <td>50</td>\n",
       "      <td>admin.</td>\n",
       "      <td>single</td>\n",
       "      <td>secondary</td>\n",
       "      <td>no</td>\n",
       "      <td>1595</td>\n",
       "      <td>no</td>\n",
       "      <td>no</td>\n",
       "      <td>telephone</td>\n",
       "      <td>31</td>\n",
       "      <td>jul</td>\n",
       "      <td>49</td>\n",
       "      <td>25</td>\n",
       "      <td>-1</td>\n",
       "      <td>0</td>\n",
       "      <td>unknown</td>\n",
       "      <td>0</td>\n",
       "    </tr>\n",
       "    <tr>\n",
       "      <th>8</th>\n",
       "      <td>46</td>\n",
       "      <td>blue-collar</td>\n",
       "      <td>married</td>\n",
       "      <td>primary</td>\n",
       "      <td>no</td>\n",
       "      <td>1463</td>\n",
       "      <td>no</td>\n",
       "      <td>no</td>\n",
       "      <td>cellular</td>\n",
       "      <td>4</td>\n",
       "      <td>aug</td>\n",
       "      <td>50</td>\n",
       "      <td>1</td>\n",
       "      <td>-1</td>\n",
       "      <td>0</td>\n",
       "      <td>unknown</td>\n",
       "      <td>0</td>\n",
       "    </tr>\n",
       "    <tr>\n",
       "      <th>9</th>\n",
       "      <td>39</td>\n",
       "      <td>management</td>\n",
       "      <td>divorced</td>\n",
       "      <td>tertiary</td>\n",
       "      <td>no</td>\n",
       "      <td>25</td>\n",
       "      <td>yes</td>\n",
       "      <td>no</td>\n",
       "      <td>cellular</td>\n",
       "      <td>8</td>\n",
       "      <td>may</td>\n",
       "      <td>119</td>\n",
       "      <td>1</td>\n",
       "      <td>-1</td>\n",
       "      <td>0</td>\n",
       "      <td>unknown</td>\n",
       "      <td>0</td>\n",
       "    </tr>\n",
       "  </tbody>\n",
       "</table>\n",
       "</div>"
      ],
      "text/plain": [
       "    age          job   marital  education default  balance housing loan  \\\n",
       "id                                                                        \n",
       "0    42   technician   married  secondary      no        7      no   no   \n",
       "1    38  blue-collar   married  secondary      no      514      no   no   \n",
       "2    36  blue-collar   married  secondary      no      602     yes   no   \n",
       "3    27      student    single  secondary      no       34     yes   no   \n",
       "4    26   technician   married  secondary      no      889     yes   no   \n",
       "5    24       admin.    single  secondary      no     1882     yes   no   \n",
       "6    39  blue-collar   married  secondary      no        0      no   no   \n",
       "7    50       admin.    single  secondary      no     1595      no   no   \n",
       "8    46  blue-collar   married    primary      no     1463      no   no   \n",
       "9    39   management  divorced   tertiary      no       25     yes   no   \n",
       "\n",
       "      contact  day month  duration  campaign  pdays  previous poutcome  y  \n",
       "id                                                                         \n",
       "0    cellular   25   aug       117         3     -1         0  unknown  0  \n",
       "1     unknown   18   jun       185         1     -1         0  unknown  0  \n",
       "2     unknown   14   may       111         2     -1         0  unknown  0  \n",
       "3     unknown   28   may        10         2     -1         0  unknown  0  \n",
       "4    cellular    3   feb       902         1     -1         0  unknown  1  \n",
       "5    cellular   20   apr      1010         3     -1         0  unknown  0  \n",
       "6   telephone   21   nov        90         1     -1         0  unknown  0  \n",
       "7   telephone   31   jul        49        25     -1         0  unknown  0  \n",
       "8    cellular    4   aug        50         1     -1         0  unknown  0  \n",
       "9    cellular    8   may       119         1     -1         0  unknown  0  "
      ]
     },
     "execution_count": 3,
     "metadata": {},
     "output_type": "execute_result"
    }
   ],
   "source": [
    "train_data.head(10)"
   ]
  },
  {
   "cell_type": "code",
   "execution_count": 4,
   "id": "1a33e2ab",
   "metadata": {
    "execution": {
     "iopub.execute_input": "2025-08-19T18:17:16.939041Z",
     "iopub.status.busy": "2025-08-19T18:17:16.938810Z",
     "iopub.status.idle": "2025-08-19T18:17:17.113984Z",
     "shell.execute_reply": "2025-08-19T18:17:17.113103Z"
    },
    "papermill": {
     "duration": 0.180149,
     "end_time": "2025-08-19T18:17:17.115330",
     "exception": false,
     "start_time": "2025-08-19T18:17:16.935181",
     "status": "completed"
    },
    "tags": []
   },
   "outputs": [
    {
     "data": {
      "text/html": [
       "<div>\n",
       "<style scoped>\n",
       "    .dataframe tbody tr th:only-of-type {\n",
       "        vertical-align: middle;\n",
       "    }\n",
       "\n",
       "    .dataframe tbody tr th {\n",
       "        vertical-align: top;\n",
       "    }\n",
       "\n",
       "    .dataframe thead th {\n",
       "        text-align: right;\n",
       "    }\n",
       "</style>\n",
       "<table border=\"1\" class=\"dataframe\">\n",
       "  <thead>\n",
       "    <tr style=\"text-align: right;\">\n",
       "      <th></th>\n",
       "      <th>age</th>\n",
       "      <th>balance</th>\n",
       "      <th>day</th>\n",
       "      <th>duration</th>\n",
       "      <th>campaign</th>\n",
       "      <th>pdays</th>\n",
       "      <th>previous</th>\n",
       "      <th>y</th>\n",
       "    </tr>\n",
       "  </thead>\n",
       "  <tbody>\n",
       "    <tr>\n",
       "      <th>count</th>\n",
       "      <td>750000.000000</td>\n",
       "      <td>750000.000000</td>\n",
       "      <td>750000.000000</td>\n",
       "      <td>750000.000000</td>\n",
       "      <td>750000.000000</td>\n",
       "      <td>750000.000000</td>\n",
       "      <td>750000.000000</td>\n",
       "      <td>750000.000000</td>\n",
       "    </tr>\n",
       "    <tr>\n",
       "      <th>mean</th>\n",
       "      <td>40.926395</td>\n",
       "      <td>1204.067397</td>\n",
       "      <td>16.117209</td>\n",
       "      <td>256.229144</td>\n",
       "      <td>2.577008</td>\n",
       "      <td>22.412733</td>\n",
       "      <td>0.298545</td>\n",
       "      <td>0.120651</td>\n",
       "    </tr>\n",
       "    <tr>\n",
       "      <th>std</th>\n",
       "      <td>10.098829</td>\n",
       "      <td>2836.096759</td>\n",
       "      <td>8.250832</td>\n",
       "      <td>272.555662</td>\n",
       "      <td>2.718514</td>\n",
       "      <td>77.319998</td>\n",
       "      <td>1.335926</td>\n",
       "      <td>0.325721</td>\n",
       "    </tr>\n",
       "    <tr>\n",
       "      <th>min</th>\n",
       "      <td>18.000000</td>\n",
       "      <td>-8019.000000</td>\n",
       "      <td>1.000000</td>\n",
       "      <td>1.000000</td>\n",
       "      <td>1.000000</td>\n",
       "      <td>-1.000000</td>\n",
       "      <td>0.000000</td>\n",
       "      <td>0.000000</td>\n",
       "    </tr>\n",
       "    <tr>\n",
       "      <th>25%</th>\n",
       "      <td>33.000000</td>\n",
       "      <td>0.000000</td>\n",
       "      <td>9.000000</td>\n",
       "      <td>91.000000</td>\n",
       "      <td>1.000000</td>\n",
       "      <td>-1.000000</td>\n",
       "      <td>0.000000</td>\n",
       "      <td>0.000000</td>\n",
       "    </tr>\n",
       "    <tr>\n",
       "      <th>50%</th>\n",
       "      <td>39.000000</td>\n",
       "      <td>634.000000</td>\n",
       "      <td>17.000000</td>\n",
       "      <td>133.000000</td>\n",
       "      <td>2.000000</td>\n",
       "      <td>-1.000000</td>\n",
       "      <td>0.000000</td>\n",
       "      <td>0.000000</td>\n",
       "    </tr>\n",
       "    <tr>\n",
       "      <th>75%</th>\n",
       "      <td>48.000000</td>\n",
       "      <td>1390.000000</td>\n",
       "      <td>21.000000</td>\n",
       "      <td>361.000000</td>\n",
       "      <td>3.000000</td>\n",
       "      <td>-1.000000</td>\n",
       "      <td>0.000000</td>\n",
       "      <td>0.000000</td>\n",
       "    </tr>\n",
       "    <tr>\n",
       "      <th>max</th>\n",
       "      <td>95.000000</td>\n",
       "      <td>99717.000000</td>\n",
       "      <td>31.000000</td>\n",
       "      <td>4918.000000</td>\n",
       "      <td>63.000000</td>\n",
       "      <td>871.000000</td>\n",
       "      <td>200.000000</td>\n",
       "      <td>1.000000</td>\n",
       "    </tr>\n",
       "  </tbody>\n",
       "</table>\n",
       "</div>"
      ],
      "text/plain": [
       "                 age        balance            day       duration  \\\n",
       "count  750000.000000  750000.000000  750000.000000  750000.000000   \n",
       "mean       40.926395    1204.067397      16.117209     256.229144   \n",
       "std        10.098829    2836.096759       8.250832     272.555662   \n",
       "min        18.000000   -8019.000000       1.000000       1.000000   \n",
       "25%        33.000000       0.000000       9.000000      91.000000   \n",
       "50%        39.000000     634.000000      17.000000     133.000000   \n",
       "75%        48.000000    1390.000000      21.000000     361.000000   \n",
       "max        95.000000   99717.000000      31.000000    4918.000000   \n",
       "\n",
       "            campaign          pdays       previous              y  \n",
       "count  750000.000000  750000.000000  750000.000000  750000.000000  \n",
       "mean        2.577008      22.412733       0.298545       0.120651  \n",
       "std         2.718514      77.319998       1.335926       0.325721  \n",
       "min         1.000000      -1.000000       0.000000       0.000000  \n",
       "25%         1.000000      -1.000000       0.000000       0.000000  \n",
       "50%         2.000000      -1.000000       0.000000       0.000000  \n",
       "75%         3.000000      -1.000000       0.000000       0.000000  \n",
       "max        63.000000     871.000000     200.000000       1.000000  "
      ]
     },
     "execution_count": 4,
     "metadata": {},
     "output_type": "execute_result"
    }
   ],
   "source": [
    "train_data.describe()"
   ]
  },
  {
   "cell_type": "code",
   "execution_count": 5,
   "id": "86d5edfc",
   "metadata": {
    "execution": {
     "iopub.execute_input": "2025-08-19T18:17:17.123355Z",
     "iopub.status.busy": "2025-08-19T18:17:17.122826Z",
     "iopub.status.idle": "2025-08-19T18:17:17.284857Z",
     "shell.execute_reply": "2025-08-19T18:17:17.284069Z"
    },
    "papermill": {
     "duration": 0.167254,
     "end_time": "2025-08-19T18:17:17.286166",
     "exception": false,
     "start_time": "2025-08-19T18:17:17.118912",
     "status": "completed"
    },
    "tags": []
   },
   "outputs": [
    {
     "data": {
      "text/plain": [
       "y           1.000000\n",
       "duration    0.519283\n",
       "balance     0.122513\n",
       "previous    0.119552\n",
       "pdays       0.089277\n",
       "age         0.009523\n",
       "day        -0.049625\n",
       "campaign   -0.075829\n",
       "Name: y, dtype: float64"
      ]
     },
     "execution_count": 5,
     "metadata": {},
     "output_type": "execute_result"
    }
   ],
   "source": [
    "# data visualization\n",
    "# numerical 7 cols (not including id)\n",
    "\n",
    "# id & target value 2 cols\n",
    "correlation = train_data.corr(numeric_only = True)\n",
    "correlation['y'].sort_values(ascending = False)\n"
   ]
  },
  {
   "cell_type": "code",
   "execution_count": 6,
   "id": "04ec03e0",
   "metadata": {
    "execution": {
     "iopub.execute_input": "2025-08-19T18:17:17.294821Z",
     "iopub.status.busy": "2025-08-19T18:17:17.294196Z",
     "iopub.status.idle": "2025-08-19T18:17:17.544483Z",
     "shell.execute_reply": "2025-08-19T18:17:17.543772Z"
    },
    "papermill": {
     "duration": 0.255762,
     "end_time": "2025-08-19T18:17:17.545702",
     "exception": false,
     "start_time": "2025-08-19T18:17:17.289940",
     "status": "completed"
    },
    "tags": []
   },
   "outputs": [
    {
     "data": {
      "image/png": "[encoded data removed]",
      "text/plain": [
       "<Figure size 640x480 with 2 Axes>"
      ]
     },
     "metadata": {},
     "output_type": "display_data"
    }
   ],
   "source": [
    "sns.heatmap(correlation[['y']], annot = True, color = 'blue')\n",
    "plt.show()"
   ]
  },
  {
   "cell_type": "code",
   "execution_count": 7,
   "id": "306f6cbc",
   "metadata": {
    "execution": {
     "iopub.execute_input": "2025-08-19T18:17:17.554011Z",
     "iopub.status.busy": "2025-08-19T18:17:17.553803Z",
     "iopub.status.idle": "2025-08-19T18:17:17.656801Z",
     "shell.execute_reply": "2025-08-19T18:17:17.656009Z"
    },
    "papermill": {
     "duration": 0.108328,
     "end_time": "2025-08-19T18:17:17.657937",
     "exception": false,
     "start_time": "2025-08-19T18:17:17.549609",
     "status": "completed"
    },
    "tags": []
   },
   "outputs": [
    {
     "name": "stdout",
     "output_type": "stream",
     "text": [
      "job\n",
      "student          0.340784\n",
      "retired          0.246241\n",
      "unemployed       0.179823\n",
      "management       0.150392\n",
      "self-employed    0.129443\n",
      "unknown          0.120672\n",
      "technician       0.118321\n",
      "admin.           0.116453\n",
      "housemaid        0.084653\n",
      "services         0.082714\n",
      "entrepreneur     0.081386\n",
      "blue-collar      0.067438\n",
      "Name: y, dtype: float64\n"
     ]
    },
    {
     "data": {
      "text/plain": [
       "education\n",
       "secondary    401683\n",
       "tertiary     227508\n",
       "primary       99510\n",
       "unknown       21299\n",
       "Name: count, dtype: int64"
      ]
     },
     "execution_count": 7,
     "metadata": {},
     "output_type": "execute_result"
    }
   ],
   "source": [
    "# categorical 9 cols\n",
    "columns = ['job', 'marital','education', 'default', 'housing', 'loan', 'contact', 'month', 'poutcome']\n",
    "\n",
    "print(train_data.groupby('job')['y'].mean().sort_values(ascending = False))\n",
    "train_data['education'].value_counts().sort_values(ascending=False)\n",
    "\n",
    "# plt.figure(figsize = (20, 10))\n",
    "# sns.countplot(x = 'job', data = train_data)\n",
    "# plt.show()"
   ]
  },
  {
   "cell_type": "code",
   "execution_count": 8,
   "id": "ea1e9699",
   "metadata": {
    "execution": {
     "iopub.execute_input": "2025-08-19T18:17:17.666378Z",
     "iopub.status.busy": "2025-08-19T18:17:17.666101Z",
     "iopub.status.idle": "2025-08-19T18:17:24.358937Z",
     "shell.execute_reply": "2025-08-19T18:17:24.358098Z"
    },
    "papermill": {
     "duration": 6.698285,
     "end_time": "2025-08-19T18:17:24.360079",
     "exception": false,
     "start_time": "2025-08-19T18:17:17.661794",
     "status": "completed"
    },
    "tags": []
   },
   "outputs": [
    {
     "data": {
      "image/png": "[encoded data removed]",
      "text/plain": [
       "<Figure size 2000x1000 with 1 Axes>"
      ]
     },
     "metadata": {},
     "output_type": "display_data"
    }
   ],
   "source": [
    "plt.figure(figsize = (20, 10))\n",
    "sns.barplot(x = train_data['job'], y = train_data['y'])\n",
    "plt.show()\n",
    "# student 0.340784 retired 0.246241\n",
    "# mar    0.571355 sep    0.534755 dec    0.513291 oct    0.490004 apr    0.235654 feb    0.206801\n",
    "# poutcome success 0.764004"
   ]
  },
  {
   "cell_type": "code",
   "execution_count": 9,
   "id": "b84024c3",
   "metadata": {
    "execution": {
     "iopub.execute_input": "2025-08-19T18:17:24.371263Z",
     "iopub.status.busy": "2025-08-19T18:17:24.371008Z",
     "iopub.status.idle": "2025-08-19T18:17:24.897016Z",
     "shell.execute_reply": "2025-08-19T18:17:24.896303Z"
    },
    "papermill": {
     "duration": 0.532179,
     "end_time": "2025-08-19T18:17:24.898262",
     "exception": false,
     "start_time": "2025-08-19T18:17:24.366083",
     "status": "completed"
    },
    "tags": []
   },
   "outputs": [
    {
     "name": "stderr",
     "output_type": "stream",
     "text": [
      "/usr/local/lib/python3.11/dist-packages/seaborn/_oldcore.py:1119: FutureWarning: use_inf_as_na option is deprecated and will be removed in a future version. Convert inf values to NaN before operating instead.\n",
      "  with pd.option_context('mode.use_inf_as_na', True):\n"
     ]
    },
    {
     "data": {
      "image/png": "[encoded data removed]",
      "text/plain": [
       "<Figure size 640x480 with 1 Axes>"
      ]
     },
     "metadata": {},
     "output_type": "display_data"
    }
   ],
   "source": [
    "# target data visualization\n",
    "target = sns.histplot(train_data['y'])\n",
    "\n",
    "# imbalanced data"
   ]
  },
  {
   "cell_type": "code",
   "execution_count": 10,
   "id": "4a716f0e",
   "metadata": {
    "execution": {
     "iopub.execute_input": "2025-08-19T18:17:24.909305Z",
     "iopub.status.busy": "2025-08-19T18:17:24.908667Z",
     "iopub.status.idle": "2025-08-19T18:17:25.296939Z",
     "shell.execute_reply": "2025-08-19T18:17:25.295814Z"
    },
    "papermill": {
     "duration": 0.394704,
     "end_time": "2025-08-19T18:17:25.298382",
     "exception": false,
     "start_time": "2025-08-19T18:17:24.903678",
     "status": "completed"
    },
    "tags": []
   },
   "outputs": [
    {
     "name": "stdout",
     "output_type": "stream",
     "text": [
      "age          0\n",
      "job          0\n",
      "marital      0\n",
      "education    0\n",
      "default      0\n",
      "balance      0\n",
      "housing      0\n",
      "loan         0\n",
      "contact      0\n",
      "day          0\n",
      "month        0\n",
      "duration     0\n",
      "campaign     0\n",
      "pdays        0\n",
      "previous     0\n",
      "poutcome     0\n",
      "y            0\n",
      "dtype: int64\n",
      "age          0\n",
      "job          0\n",
      "marital      0\n",
      "education    0\n",
      "default      0\n",
      "balance      0\n",
      "housing      0\n",
      "loan         0\n",
      "contact      0\n",
      "day          0\n",
      "month        0\n",
      "duration     0\n",
      "campaign     0\n",
      "pdays        0\n",
      "previous     0\n",
      "poutcome     0\n",
      "dtype: int64\n"
     ]
    }
   ],
   "source": [
    "# missing value\n",
    "miss_value = train_data.isnull().sum()\n",
    "print(miss_value)\n",
    "miss2_value = test_data.isnull().sum()\n",
    "print(miss2_value)\n",
    "\n",
    "# dont have to deal with the missing value"
   ]
  },
  {
   "cell_type": "code",
   "execution_count": 11,
   "id": "e257d86c",
   "metadata": {
    "execution": {
     "iopub.execute_input": "2025-08-19T18:17:25.309070Z",
     "iopub.status.busy": "2025-08-19T18:17:25.308558Z",
     "iopub.status.idle": "2025-08-19T18:17:26.787225Z",
     "shell.execute_reply": "2025-08-19T18:17:26.786385Z"
    },
    "papermill": {
     "duration": 1.485207,
     "end_time": "2025-08-19T18:17:26.788640",
     "exception": false,
     "start_time": "2025-08-19T18:17:25.303433",
     "status": "completed"
    },
    "tags": []
   },
   "outputs": [
    {
     "name": "stdout",
     "output_type": "stream",
     "text": [
      "Encoding finished\n"
     ]
    }
   ],
   "source": [
    "# data preprocessing\n",
    "# One-Hot Encoding\n",
    "columns = ['job', 'marital','education', 'default', 'housing', 'loan', 'contact', 'month', 'poutcome']\n",
    "\n",
    "train_data['source'] = 'train'\n",
    "test_data['source'] = 'test'\n",
    "\n",
    "data = pd.concat([train_data, test_data], axis = 0)\n",
    "data = pd.get_dummies(data, columns = columns, drop_first = False)\n",
    "\n",
    "train_data = data[data['source']=='train'].drop('source', axis = 1)\n",
    "test_data = data[data['source']=='test'].drop('source', axis = 1)\n",
    "\n",
    "print('Encoding finished')"
   ]
  },
  {
   "cell_type": "code",
   "execution_count": 12,
   "id": "0b2abff8",
   "metadata": {
    "execution": {
     "iopub.execute_input": "2025-08-19T18:17:26.799719Z",
     "iopub.status.busy": "2025-08-19T18:17:26.799469Z",
     "iopub.status.idle": "2025-08-19T18:17:26.803072Z",
     "shell.execute_reply": "2025-08-19T18:17:26.802459Z"
    },
    "papermill": {
     "duration": 0.010285,
     "end_time": "2025-08-19T18:17:26.804237",
     "exception": false,
     "start_time": "2025-08-19T18:17:26.793952",
     "status": "completed"
    },
    "tags": []
   },
   "outputs": [],
   "source": [
    "# data preprocessing\n",
    "# Label Encoding\n",
    "# one_hot_columns = ['job', 'marital', 'default', 'housing', 'loan', 'contact', 'poutcome']\n",
    "# label_columns = ['education', 'month']\n",
    "\n",
    "# for col in label_columns:\n",
    "#     encoder = LabelEncoder()\n",
    "#     train_data[col] = encoder.fit_transform(train_data[col])\n",
    "#     test_data[col] = encoder.transform(test_data[col])\n",
    "# train_data = pd.get_dummies(train_data)\n",
    "# test_data = pd.get_dummies(test_data)\n",
    "# print('Encoding finished')"
   ]
  },
  {
   "cell_type": "code",
   "execution_count": 13,
   "id": "28bd9208",
   "metadata": {
    "execution": {
     "iopub.execute_input": "2025-08-19T18:17:26.815405Z",
     "iopub.status.busy": "2025-08-19T18:17:26.815138Z",
     "iopub.status.idle": "2025-08-19T18:17:26.900994Z",
     "shell.execute_reply": "2025-08-19T18:17:26.900349Z"
    },
    "papermill": {
     "duration": 0.094134,
     "end_time": "2025-08-19T18:17:26.903627",
     "exception": false,
     "start_time": "2025-08-19T18:17:26.809493",
     "status": "completed"
    },
    "tags": []
   },
   "outputs": [
    {
     "name": "stdout",
     "output_type": "stream",
     "text": [
      "        age  balance  day  duration  campaign  pdays  previous    y  \\\n",
      "id                                                                    \n",
      "0        42        7   25       117         3     -1         0  0.0   \n",
      "1        38      514   18       185         1     -1         0  0.0   \n",
      "2        36      602   14       111         2     -1         0  0.0   \n",
      "3        27       34   28        10         2     -1         0  0.0   \n",
      "4        26      889    3       902         1     -1         0  1.0   \n",
      "...     ...      ...  ...       ...       ...    ...       ...  ...   \n",
      "749995   29     1282    4      1006         2     -1         0  1.0   \n",
      "749996   69      631   19        87         1     -1         0  0.0   \n",
      "749997   50      217   17       113         1     -1         0  0.0   \n",
      "749998   32     -274   26       108         6     -1         0  0.0   \n",
      "749999   42     1559    4       143         1      1         7  0.0   \n",
      "\n",
      "        job_admin.  job_blue-collar  ...  month_jun  month_mar  month_may  \\\n",
      "id                                   ...                                    \n",
      "0            False            False  ...      False      False      False   \n",
      "1            False             True  ...       True      False      False   \n",
      "2            False             True  ...      False      False       True   \n",
      "3            False            False  ...      False      False       True   \n",
      "4            False            False  ...      False      False      False   \n",
      "...            ...              ...  ...        ...        ...        ...   \n",
      "749995       False            False  ...      False      False      False   \n",
      "749996       False            False  ...      False      False      False   \n",
      "749997       False             True  ...      False      False      False   \n",
      "749998       False            False  ...      False      False      False   \n",
      "749999       False            False  ...      False      False      False   \n",
      "\n",
      "        month_nov  month_oct  month_sep  poutcome_failure  poutcome_other  \\\n",
      "id                                                                          \n",
      "0           False      False      False             False           False   \n",
      "1           False      False      False             False           False   \n",
      "2           False      False      False             False           False   \n",
      "3           False      False      False             False           False   \n",
      "4           False      False      False             False           False   \n",
      "...           ...        ...        ...               ...             ...   \n",
      "749995      False      False      False             False           False   \n",
      "749996      False      False      False             False           False   \n",
      "749997      False      False      False             False           False   \n",
      "749998      False      False      False             False           False   \n",
      "749999      False      False      False              True           False   \n",
      "\n",
      "        poutcome_success  poutcome_unknown  \n",
      "id                                          \n",
      "0                  False              True  \n",
      "1                  False              True  \n",
      "2                  False              True  \n",
      "3                  False              True  \n",
      "4                  False              True  \n",
      "...                  ...               ...  \n",
      "749995             False              True  \n",
      "749996             False              True  \n",
      "749997             False              True  \n",
      "749998             False              True  \n",
      "749999             False             False  \n",
      "\n",
      "[750000 rows x 52 columns]\n",
      "        age  balance  day  duration  campaign  pdays  previous   y  \\\n",
      "id                                                                   \n",
      "750000   32     1397   21       224         1     -1         0 NaN   \n",
      "750001   44       23    3       586         2     -1         0 NaN   \n",
      "750002   36       46   13       111         2     -1         0 NaN   \n",
      "750003   58    -1380   29       125         1     -1         0 NaN   \n",
      "750004   28     1950   22       181         1     -1         0 NaN   \n",
      "...     ...      ...  ...       ...       ...    ...       ...  ..   \n",
      "999995   43        0   18        65         2     -1         0 NaN   \n",
      "999996   40      522   19       531         1    189         1 NaN   \n",
      "999997   63       33    3       178         1     92         8 NaN   \n",
      "999998   50     2629   30       163         2     -1         0 NaN   \n",
      "999999   29      722    6       119         1     -1         0 NaN   \n",
      "\n",
      "        job_admin.  job_blue-collar  ...  month_jun  month_mar  month_may  \\\n",
      "id                                   ...                                    \n",
      "750000       False             True  ...      False      False       True   \n",
      "750001       False            False  ...      False      False      False   \n",
      "750002       False            False  ...      False      False       True   \n",
      "750003       False             True  ...      False      False       True   \n",
      "750004       False            False  ...      False      False      False   \n",
      "...            ...              ...  ...        ...        ...        ...   \n",
      "999995       False            False  ...      False      False      False   \n",
      "999996       False            False  ...      False      False      False   \n",
      "999997       False            False  ...      False      False      False   \n",
      "999998       False             True  ...      False      False       True   \n",
      "999999       False            False  ...      False      False      False   \n",
      "\n",
      "        month_nov  month_oct  month_sep  poutcome_failure  poutcome_other  \\\n",
      "id                                                                          \n",
      "750000      False      False      False             False           False   \n",
      "750001      False      False      False             False           False   \n",
      "750002      False      False      False             False           False   \n",
      "750003      False      False      False             False           False   \n",
      "750004      False      False      False             False           False   \n",
      "...           ...        ...        ...               ...             ...   \n",
      "999995       True      False      False             False           False   \n",
      "999996       True      False      False              True           False   \n",
      "999997      False      False      False             False           False   \n",
      "999998      False      False      False             False           False   \n",
      "999999      False      False      False             False           False   \n",
      "\n",
      "        poutcome_success  poutcome_unknown  \n",
      "id                                          \n",
      "750000             False              True  \n",
      "750001             False              True  \n",
      "750002             False              True  \n",
      "750003             False              True  \n",
      "750004             False              True  \n",
      "...                  ...               ...  \n",
      "999995             False              True  \n",
      "999996             False             False  \n",
      "999997              True             False  \n",
      "999998             False              True  \n",
      "999999             False              True  \n",
      "\n",
      "[250000 rows x 52 columns]\n"
     ]
    },
    {
     "name": "stderr",
     "output_type": "stream",
     "text": [
      "/usr/local/lib/python3.11/dist-packages/pandas/io/formats/format.py:1458: RuntimeWarning: invalid value encountered in greater\n",
      "  has_large_values = (abs_vals > 1e6).any()\n",
      "/usr/local/lib/python3.11/dist-packages/pandas/io/formats/format.py:1459: RuntimeWarning: invalid value encountered in less\n",
      "  has_small_values = ((abs_vals < 10 ** (-self.digits)) & (abs_vals > 0)).any()\n",
      "/usr/local/lib/python3.11/dist-packages/pandas/io/formats/format.py:1459: RuntimeWarning: invalid value encountered in greater\n",
      "  has_small_values = ((abs_vals < 10 ** (-self.digits)) & (abs_vals > 0)).any()\n"
     ]
    }
   ],
   "source": [
    "print(train_data)\n",
    "print(test_data)"
   ]
  },
  {
   "cell_type": "code",
   "execution_count": 14,
   "id": "3cfd9fc2",
   "metadata": {
    "execution": {
     "iopub.execute_input": "2025-08-19T18:17:26.916475Z",
     "iopub.status.busy": "2025-08-19T18:17:26.915725Z",
     "iopub.status.idle": "2025-08-19T18:17:26.920472Z",
     "shell.execute_reply": "2025-08-19T18:17:26.919679Z"
    },
    "papermill": {
     "duration": 0.011989,
     "end_time": "2025-08-19T18:17:26.921721",
     "exception": false,
     "start_time": "2025-08-19T18:17:26.909732",
     "status": "completed"
    },
    "tags": []
   },
   "outputs": [
    {
     "name": "stdout",
     "output_type": "stream",
     "text": [
      "Different columns: set()\n"
     ]
    }
   ],
   "source": [
    "diff_cols = set(train_data.columns).symmetric_difference(test_data.columns)\n",
    "print(\"Different columns:\", diff_cols)"
   ]
  },
  {
   "cell_type": "code",
   "execution_count": 15,
   "id": "0f29a9d5",
   "metadata": {
    "execution": {
     "iopub.execute_input": "2025-08-19T18:17:26.933329Z",
     "iopub.status.busy": "2025-08-19T18:17:26.933043Z",
     "iopub.status.idle": "2025-08-19T18:17:27.178100Z",
     "shell.execute_reply": "2025-08-19T18:17:27.177340Z"
    },
    "papermill": {
     "duration": 0.252333,
     "end_time": "2025-08-19T18:17:27.179399",
     "exception": false,
     "start_time": "2025-08-19T18:17:26.927066",
     "status": "completed"
    },
    "tags": []
   },
   "outputs": [
    {
     "name": "stdout",
     "output_type": "stream",
     "text": [
      "-----------Training start-----------\n",
      "-----------Training  finished-----------\n"
     ]
    }
   ],
   "source": [
    "# Model training and hyperparameter tuning \n",
    "\n",
    "# columns_to_drop = ['y', 'day', 'campaign', 'age', 'id']\n",
    "\n",
    "X = train_data.drop(['y'], axis = 1)\n",
    "y = train_data['y']\n",
    "\n",
    "model = RandomForestClassifier(class_weight = 'balanced', random_state = 42)\n",
    "X_train, X_test, y_train, y_test = train_test_split(X, y, test_size=0.3, random_state=42)\n",
    "# cv = StratifiedKFold(n_splits = 5, shuffle = True, random_state = 42)\n",
    "# score = cross_val_score(model, X, y, cv = cv, scoring = 'roc_auc')\n",
    "\n",
    "param_grid = {\n",
    "    'n_estimators': [50, 100],\n",
    "    'max_depth': [5, 10],\n",
    "    'min_samples_split': [2, 5]\n",
    "}\n",
    "print('-----------Training start-----------')\n",
    "\n",
    "# grid_search = GridSearchCV(model, param_grid, cv = 5, scoring = 'roc_auc', n_jobs = -1)\n",
    "# grid_search.fit(X_train, y_train)\n",
    "\n",
    "# print('best parameter', grid_search.best_params_)\n",
    "# print('best score', grid_search.best_score_)\n",
    "\n",
    "# best_model = grid_search.best_estimator_\n",
    "# pred = best_model.predict_proba(X_test)[:, 1]\n",
    "\n",
    "# score = roc_auc_score(y_test, pred)\n",
    "\n",
    "# print('ROC_SAUC score: ', score)\n",
    "\n",
    "print('-----------Training  finished-----------')"
   ]
  },
  {
   "cell_type": "code",
   "execution_count": 16,
   "id": "a136dd06",
   "metadata": {
    "execution": {
     "iopub.execute_input": "2025-08-19T18:17:27.191134Z",
     "iopub.status.busy": "2025-08-19T18:17:27.190897Z",
     "iopub.status.idle": "2025-08-19T18:18:43.433870Z",
     "shell.execute_reply": "2025-08-19T18:18:43.432807Z"
    },
    "papermill": {
     "duration": 76.258,
     "end_time": "2025-08-19T18:18:43.442942",
     "exception": false,
     "start_time": "2025-08-19T18:17:27.184942",
     "status": "completed"
    },
    "tags": []
   },
   "outputs": [
    {
     "name": "stdout",
     "output_type": "stream",
     "text": [
      "Prediction finished\n"
     ]
    }
   ],
   "source": [
    "# Final model training\n",
    "\n",
    "X_train = train_data.drop(['y'], axis = 1)\n",
    "y_train = train_data['y']\n",
    "X_test = test_data.drop(['y'], axis = 1)\n",
    "\n",
    "model = RandomForestClassifier(max_depth=10, min_samples_split= 2, n_estimators = 100, class_weight='balanced', random_state = 42)\n",
    "\n",
    "model.fit(X_train, y_train)\n",
    "\n",
    "pred = model.predict_proba(X_test)[:, 1]\n",
    "\n",
    "print('Prediction finished')\n",
    "\n"
   ]
  },
  {
   "cell_type": "code",
   "execution_count": 17,
   "id": "7c1f0a67",
   "metadata": {
    "execution": {
     "iopub.execute_input": "2025-08-19T18:18:43.459787Z",
     "iopub.status.busy": "2025-08-19T18:18:43.459412Z",
     "iopub.status.idle": "2025-08-19T18:18:43.982800Z",
     "shell.execute_reply": "2025-08-19T18:18:43.982117Z"
    },
    "papermill": {
     "duration": 0.533503,
     "end_time": "2025-08-19T18:18:43.983925",
     "exception": false,
     "start_time": "2025-08-19T18:18:43.450422",
     "status": "completed"
    },
    "tags": []
   },
   "outputs": [
    {
     "name": "stdout",
     "output_type": "stream",
     "text": [
      "[0.12472694 0.56712724 0.06733358 ... 0.96533216 0.0608106  0.43445928]\n",
      "submission finished\n"
     ]
    },
    {
     "data": {
      "text/html": [
       "<div>\n",
       "<style scoped>\n",
       "    .dataframe tbody tr th:only-of-type {\n",
       "        vertical-align: middle;\n",
       "    }\n",
       "\n",
       "    .dataframe tbody tr th {\n",
       "        vertical-align: top;\n",
       "    }\n",
       "\n",
       "    .dataframe thead th {\n",
       "        text-align: right;\n",
       "    }\n",
       "</style>\n",
       "<table border=\"1\" class=\"dataframe\">\n",
       "  <thead>\n",
       "    <tr style=\"text-align: right;\">\n",
       "      <th></th>\n",
       "      <th>id</th>\n",
       "      <th>y</th>\n",
       "    </tr>\n",
       "  </thead>\n",
       "  <tbody>\n",
       "    <tr>\n",
       "      <th>0</th>\n",
       "      <td>750000</td>\n",
       "      <td>0.124727</td>\n",
       "    </tr>\n",
       "    <tr>\n",
       "      <th>1</th>\n",
       "      <td>750001</td>\n",
       "      <td>0.567127</td>\n",
       "    </tr>\n",
       "    <tr>\n",
       "      <th>2</th>\n",
       "      <td>750002</td>\n",
       "      <td>0.067334</td>\n",
       "    </tr>\n",
       "    <tr>\n",
       "      <th>3</th>\n",
       "      <td>750003</td>\n",
       "      <td>0.020849</td>\n",
       "    </tr>\n",
       "    <tr>\n",
       "      <th>4</th>\n",
       "      <td>750004</td>\n",
       "      <td>0.347771</td>\n",
       "    </tr>\n",
       "  </tbody>\n",
       "</table>\n",
       "</div>"
      ],
      "text/plain": [
       "       id         y\n",
       "0  750000  0.124727\n",
       "1  750001  0.567127\n",
       "2  750002  0.067334\n",
       "3  750003  0.020849\n",
       "4  750004  0.347771"
      ]
     },
     "execution_count": 17,
     "metadata": {},
     "output_type": "execute_result"
    }
   ],
   "source": [
    "# submission\n",
    "print(pred)\n",
    "submission = pd.DataFrame({\n",
    "    'id': sample_sub['id'],\n",
    "    'y': pred\n",
    "})\n",
    "\n",
    "submission.to_csv('submission.csv', index = False)\n",
    "\n",
    "print('submission finished')\n",
    "\n",
    "submission.head(5)"
   ]
  }
 ],
 "metadata": {
  "kaggle": {
   "accelerator": "gpu",
   "dataSources": [
    {
     "databundleVersionId": 12937777,
     "sourceId": 91719,
     "sourceType": "competition"
    }
   ],
   "dockerImageVersionId": 31089,
   "isGpuEnabled": true,
   "isInternetEnabled": true,
   "language": "python",
   "sourceType": "notebook"
  },
  "kernelspec": {
   "display_name": "Python 3",
   "language": "python",
   "name": "python3"
  },
  "language_info": {
   "codemirror_mode": {
    "name": "ipython",
    "version": 3
   },
   "file_extension": ".py",
   "mimetype": "text/x-python",
   "name": "python",
   "nbconvert_exporter": "python",
   "pygments_lexer": "ipython3",
   "version": "3.11.13"
  },
  "papermill": {
   "default_parameters": {},
   "duration": 98.074258,
   "end_time": "2025-08-19T18:18:44.607588",
   "environment_variables": {},
   "exception": null,
   "input_path": "__notebook__.ipynb",
   "output_path": "__notebook__.ipynb",
   "parameters": {},
   "start_time": "2025-08-19T18:17:06.533330",
   "version": "2.6.0"
  }
 },
 "nbformat": 4,
 "nbformat_minor": 5
}
