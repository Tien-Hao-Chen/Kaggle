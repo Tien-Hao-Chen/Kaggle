{
 "cells": [
  {
   "cell_type": "code",
   "execution_count": 1,
   "id": "cb8e7a78",
   "metadata": {
    "_cell_guid": "b1076dfc-b9ad-4769-8c92-a6c4dae69d19",
    "_uuid": "8f2839f25d086af736a60e9eeb907d3b93b6e0e5",
    "execution": {
     "iopub.execute_input": "2025-08-30T07:44:49.035592Z",
     "iopub.status.busy": "2025-08-30T07:44:49.035314Z",
     "iopub.status.idle": "2025-08-30T07:44:52.598390Z",
     "shell.execute_reply": "2025-08-30T07:44:52.597792Z"
    },
    "papermill": {
     "duration": 3.569329,
     "end_time": "2025-08-30T07:44:52.599796",
     "exception": false,
     "start_time": "2025-08-30T07:44:49.030467",
     "status": "completed"
    },
    "tags": []
   },
   "outputs": [],
   "source": [
    "import numpy as np # linear algebra\n",
    "import pandas as pd # data processing, CSV file I/O (e.g. pd.read_csv)\n",
    "import matplotlib.pyplot as plt\n",
    "import seaborn as sns\n",
    "\n",
    "from sklearn.preprocessing import OneHotEncoder, LabelEncoder\n",
    "from sklearn.model_selection import train_test_split, GridSearchCV, cross_val_score, StratifiedKFold\n",
    "from sklearn.ensemble import RandomForestClassifier\n",
    "from xgboost import XGBClassifier\n",
    "from sklearn.metrics import roc_auc_score"
   ]
  },
  {
   "cell_type": "code",
   "execution_count": 2,
   "id": "8a09db87",
   "metadata": {
    "execution": {
     "iopub.execute_input": "2025-08-30T07:44:52.607700Z",
     "iopub.status.busy": "2025-08-30T07:44:52.606893Z",
     "iopub.status.idle": "2025-08-30T07:44:54.907914Z",
     "shell.execute_reply": "2025-08-30T07:44:54.907036Z"
    },
    "papermill": {
     "duration": 2.305826,
     "end_time": "2025-08-30T07:44:54.909103",
     "exception": false,
     "start_time": "2025-08-30T07:44:52.603277",
     "status": "completed"
    },
    "tags": []
   },
   "outputs": [
    {
     "name": "stdout",
     "output_type": "stream",
     "text": [
      "(750000, 17)\n",
      "(250000, 16)\n"
     ]
    }
   ],
   "source": [
    "# read the data\n",
    "\n",
    "train_data = pd.read_csv('/kaggle/input/playground-series-s5e8/train.csv', index_col = \"id\")\n",
    "test_data = pd.read_csv('/kaggle/input/playground-series-s5e8/test.csv', index_col = \"id\")\n",
    "sample_sub = pd.read_csv('/kaggle/input/playground-series-s5e8/sample_submission.csv')\n",
    "print(train_data.shape)\n",
    "print(test_data.shape)\n"
   ]
  },
  {
   "cell_type": "code",
   "execution_count": 3,
   "id": "24064d80",
   "metadata": {
    "execution": {
     "iopub.execute_input": "2025-08-30T07:44:54.916272Z",
     "iopub.status.busy": "2025-08-30T07:44:54.916062Z",
     "iopub.status.idle": "2025-08-30T07:44:54.936195Z",
     "shell.execute_reply": "2025-08-30T07:44:54.935582Z"
    },
    "papermill": {
     "duration": 0.024831,
     "end_time": "2025-08-30T07:44:54.937306",
     "exception": false,
     "start_time": "2025-08-30T07:44:54.912475",
     "status": "completed"
    },
    "tags": []
   },
   "outputs": [
    {
     "data": {
      "text/html": [
       "<div>\n",
       "<style scoped>\n",
       "    .dataframe tbody tr th:only-of-type {\n",
       "        vertical-align: middle;\n",
       "    }\n",
       "\n",
       "    .dataframe tbody tr th {\n",
       "        vertical-align: top;\n",
       "    }\n",
       "\n",
       "    .dataframe thead th {\n",
       "        text-align: right;\n",
       "    }\n",
       "</style>\n",
       "<table border=\"1\" class=\"dataframe\">\n",
       "  <thead>\n",
       "    <tr style=\"text-align: right;\">\n",
       "      <th></th>\n",
       "      <th>age</th>\n",
       "      <th>job</th>\n",
       "      <th>marital</th>\n",
       "      <th>education</th>\n",
       "      <th>default</th>\n",
       "      <th>balance</th>\n",
       "      <th>housing</th>\n",
       "      <th>loan</th>\n",
       "      <th>contact</th>\n",
       "      <th>day</th>\n",
       "      <th>month</th>\n",
       "      <th>duration</th>\n",
       "      <th>campaign</th>\n",
       "      <th>pdays</th>\n",
       "      <th>previous</th>\n",
       "      <th>poutcome</th>\n",
       "      <th>y</th>\n",
       "    </tr>\n",
       "    <tr>\n",
       "      <th>id</th>\n",
       "      <th></th>\n",
       "      <th></th>\n",
       "      <th></th>\n",
       "      <th></th>\n",
       "      <th></th>\n",
       "      <th></th>\n",
       "      <th></th>\n",
       "      <th></th>\n",
       "      <th></th>\n",
       "      <th></th>\n",
       "      <th></th>\n",
       "      <th></th>\n",
       "      <th></th>\n",
       "      <th></th>\n",
       "      <th></th>\n",
       "      <th></th>\n",
       "      <th></th>\n",
       "    </tr>\n",
       "  </thead>\n",
       "  <tbody>\n",
       "    <tr>\n",
       "      <th>0</th>\n",
       "      <td>42</td>\n",
       "      <td>technician</td>\n",
       "      <td>married</td>\n",
       "      <td>secondary</td>\n",
       "      <td>no</td>\n",
       "      <td>7</td>\n",
       "      <td>no</td>\n",
       "      <td>no</td>\n",
       "      <td>cellular</td>\n",
       "      <td>25</td>\n",
       "      <td>aug</td>\n",
       "      <td>117</td>\n",
       "      <td>3</td>\n",
       "      <td>-1</td>\n",
       "      <td>0</td>\n",
       "      <td>unknown</td>\n",
       "      <td>0</td>\n",
       "    </tr>\n",
       "    <tr>\n",
       "      <th>1</th>\n",
       "      <td>38</td>\n",
       "      <td>blue-collar</td>\n",
       "      <td>married</td>\n",
       "      <td>secondary</td>\n",
       "      <td>no</td>\n",
       "      <td>514</td>\n",
       "      <td>no</td>\n",
       "      <td>no</td>\n",
       "      <td>unknown</td>\n",
       "      <td>18</td>\n",
       "      <td>jun</td>\n",
       "      <td>185</td>\n",
       "      <td>1</td>\n",
       "      <td>-1</td>\n",
       "      <td>0</td>\n",
       "      <td>unknown</td>\n",
       "      <td>0</td>\n",
       "    </tr>\n",
       "    <tr>\n",
       "      <th>2</th>\n",
       "      <td>36</td>\n",
       "      <td>blue-collar</td>\n",
       "      <td>married</td>\n",
       "      <td>secondary</td>\n",
       "      <td>no</td>\n",
       "      <td>602</td>\n",
       "      <td>yes</td>\n",
       "      <td>no</td>\n",
       "      <td>unknown</td>\n",
       "      <td>14</td>\n",
       "      <td>may</td>\n",
       "      <td>111</td>\n",
       "      <td>2</td>\n",
       "      <td>-1</td>\n",
       "      <td>0</td>\n",
       "      <td>unknown</td>\n",
       "      <td>0</td>\n",
       "    </tr>\n",
       "    <tr>\n",
       "      <th>3</th>\n",
       "      <td>27</td>\n",
       "      <td>student</td>\n",
       "      <td>single</td>\n",
       "      <td>secondary</td>\n",
       "      <td>no</td>\n",
       "      <td>34</td>\n",
       "      <td>yes</td>\n",
       "      <td>no</td>\n",
       "      <td>unknown</td>\n",
       "      <td>28</td>\n",
       "      <td>may</td>\n",
       "      <td>10</td>\n",
       "      <td>2</td>\n",
       "      <td>-1</td>\n",
       "      <td>0</td>\n",
       "      <td>unknown</td>\n",
       "      <td>0</td>\n",
       "    </tr>\n",
       "    <tr>\n",
       "      <th>4</th>\n",
       "      <td>26</td>\n",
       "      <td>technician</td>\n",
       "      <td>married</td>\n",
       "      <td>secondary</td>\n",
       "      <td>no</td>\n",
       "      <td>889</td>\n",
       "      <td>yes</td>\n",
       "      <td>no</td>\n",
       "      <td>cellular</td>\n",
       "      <td>3</td>\n",
       "      <td>feb</td>\n",
       "      <td>902</td>\n",
       "      <td>1</td>\n",
       "      <td>-1</td>\n",
       "      <td>0</td>\n",
       "      <td>unknown</td>\n",
       "      <td>1</td>\n",
       "    </tr>\n",
       "    <tr>\n",
       "      <th>5</th>\n",
       "      <td>24</td>\n",
       "      <td>admin.</td>\n",
       "      <td>single</td>\n",
       "      <td>secondary</td>\n",
       "      <td>no</td>\n",
       "      <td>1882</td>\n",
       "      <td>yes</td>\n",
       "      <td>no</td>\n",
       "      <td>cellular</td>\n",
       "      <td>20</td>\n",
       "      <td>apr</td>\n",
       "      <td>1010</td>\n",
       "      <td>3</td>\n",
       "      <td>-1</td>\n",
       "      <td>0</td>\n",
       "      <td>unknown</td>\n",
       "      <td>0</td>\n",
       "    </tr>\n",
       "    <tr>\n",
       "      <th>6</th>\n",
       "      <td>39</td>\n",
       "      <td>blue-collar</td>\n",
       "      <td>married</td>\n",
       "      <td>secondary</td>\n",
       "      <td>no</td>\n",
       "      <td>0</td>\n",
       "      <td>no</td>\n",
       "      <td>no</td>\n",
       "      <td>telephone</td>\n",
       "      <td>21</td>\n",
       "      <td>nov</td>\n",
       "      <td>90</td>\n",
       "      <td>1</td>\n",
       "      <td>-1</td>\n",
       "      <td>0</td>\n",
       "      <td>unknown</td>\n",
       "      <td>0</td>\n",
       "    </tr>\n",
       "    <tr>\n",
       "      <th>7</th>\n",
       "      <td>50</td>\n",
       "      <td>admin.</td>\n",
       "      <td>single</td>\n",
       "      <td>secondary</td>\n",
       "      <td>no</td>\n",
       "      <td>1595</td>\n",
       "      <td>no</td>\n",
       "      <td>no</td>\n",
       "      <td>telephone</td>\n",
       "      <td>31</td>\n",
       "      <td>jul</td>\n",
       "      <td>49</td>\n",
       "      <td>25</td>\n",
       "      <td>-1</td>\n",
       "      <td>0</td>\n",
       "      <td>unknown</td>\n",
       "      <td>0</td>\n",
       "    </tr>\n",
       "    <tr>\n",
       "      <th>8</th>\n",
       "      <td>46</td>\n",
       "      <td>blue-collar</td>\n",
       "      <td>married</td>\n",
       "      <td>primary</td>\n",
       "      <td>no</td>\n",
       "      <td>1463</td>\n",
       "      <td>no</td>\n",
       "      <td>no</td>\n",
       "      <td>cellular</td>\n",
       "      <td>4</td>\n",
       "      <td>aug</td>\n",
       "      <td>50</td>\n",
       "      <td>1</td>\n",
       "      <td>-1</td>\n",
       "      <td>0</td>\n",
       "      <td>unknown</td>\n",
       "      <td>0</td>\n",
       "    </tr>\n",
       "    <tr>\n",
       "      <th>9</th>\n",
       "      <td>39</td>\n",
       "      <td>management</td>\n",
       "      <td>divorced</td>\n",
       "      <td>tertiary</td>\n",
       "      <td>no</td>\n",
       "      <td>25</td>\n",
       "      <td>yes</td>\n",
       "      <td>no</td>\n",
       "      <td>cellular</td>\n",
       "      <td>8</td>\n",
       "      <td>may</td>\n",
       "      <td>119</td>\n",
       "      <td>1</td>\n",
       "      <td>-1</td>\n",
       "      <td>0</td>\n",
       "      <td>unknown</td>\n",
       "      <td>0</td>\n",
       "    </tr>\n",
       "  </tbody>\n",
       "</table>\n",
       "</div>"
      ],
      "text/plain": [
       "    age          job   marital  education default  balance housing loan  \\\n",
       "id                                                                        \n",
       "0    42   technician   married  secondary      no        7      no   no   \n",
       "1    38  blue-collar   married  secondary      no      514      no   no   \n",
       "2    36  blue-collar   married  secondary      no      602     yes   no   \n",
       "3    27      student    single  secondary      no       34     yes   no   \n",
       "4    26   technician   married  secondary      no      889     yes   no   \n",
       "5    24       admin.    single  secondary      no     1882     yes   no   \n",
       "6    39  blue-collar   married  secondary      no        0      no   no   \n",
       "7    50       admin.    single  secondary      no     1595      no   no   \n",
       "8    46  blue-collar   married    primary      no     1463      no   no   \n",
       "9    39   management  divorced   tertiary      no       25     yes   no   \n",
       "\n",
       "      contact  day month  duration  campaign  pdays  previous poutcome  y  \n",
       "id                                                                         \n",
       "0    cellular   25   aug       117         3     -1         0  unknown  0  \n",
       "1     unknown   18   jun       185         1     -1         0  unknown  0  \n",
       "2     unknown   14   may       111         2     -1         0  unknown  0  \n",
       "3     unknown   28   may        10         2     -1         0  unknown  0  \n",
       "4    cellular    3   feb       902         1     -1         0  unknown  1  \n",
       "5    cellular   20   apr      1010         3     -1         0  unknown  0  \n",
       "6   telephone   21   nov        90         1     -1         0  unknown  0  \n",
       "7   telephone   31   jul        49        25     -1         0  unknown  0  \n",
       "8    cellular    4   aug        50         1     -1         0  unknown  0  \n",
       "9    cellular    8   may       119         1     -1         0  unknown  0  "
      ]
     },
     "execution_count": 3,
     "metadata": {},
     "output_type": "execute_result"
    }
   ],
   "source": [
    "train_data.head(10)"
   ]
  },
  {
   "cell_type": "code",
   "execution_count": 4,
   "id": "514f500d",
   "metadata": {
    "execution": {
     "iopub.execute_input": "2025-08-30T07:44:54.944670Z",
     "iopub.status.busy": "2025-08-30T07:44:54.944257Z",
     "iopub.status.idle": "2025-08-30T07:44:55.096888Z",
     "shell.execute_reply": "2025-08-30T07:44:55.096212Z"
    },
    "papermill": {
     "duration": 0.15756,
     "end_time": "2025-08-30T07:44:55.098152",
     "exception": false,
     "start_time": "2025-08-30T07:44:54.940592",
     "status": "completed"
    },
    "tags": []
   },
   "outputs": [
    {
     "data": {
      "text/html": [
       "<div>\n",
       "<style scoped>\n",
       "    .dataframe tbody tr th:only-of-type {\n",
       "        vertical-align: middle;\n",
       "    }\n",
       "\n",
       "    .dataframe tbody tr th {\n",
       "        vertical-align: top;\n",
       "    }\n",
       "\n",
       "    .dataframe thead th {\n",
       "        text-align: right;\n",
       "    }\n",
       "</style>\n",
       "<table border=\"1\" class=\"dataframe\">\n",
       "  <thead>\n",
       "    <tr style=\"text-align: right;\">\n",
       "      <th></th>\n",
       "      <th>age</th>\n",
       "      <th>balance</th>\n",
       "      <th>day</th>\n",
       "      <th>duration</th>\n",
       "      <th>campaign</th>\n",
       "      <th>pdays</th>\n",
       "      <th>previous</th>\n",
       "      <th>y</th>\n",
       "    </tr>\n",
       "  </thead>\n",
       "  <tbody>\n",
       "    <tr>\n",
       "      <th>count</th>\n",
       "      <td>750000.000000</td>\n",
       "      <td>750000.000000</td>\n",
       "      <td>750000.000000</td>\n",
       "      <td>750000.000000</td>\n",
       "      <td>750000.000000</td>\n",
       "      <td>750000.000000</td>\n",
       "      <td>750000.000000</td>\n",
       "      <td>750000.000000</td>\n",
       "    </tr>\n",
       "    <tr>\n",
       "      <th>mean</th>\n",
       "      <td>40.926395</td>\n",
       "      <td>1204.067397</td>\n",
       "      <td>16.117209</td>\n",
       "      <td>256.229144</td>\n",
       "      <td>2.577008</td>\n",
       "      <td>22.412733</td>\n",
       "      <td>0.298545</td>\n",
       "      <td>0.120651</td>\n",
       "    </tr>\n",
       "    <tr>\n",
       "      <th>std</th>\n",
       "      <td>10.098829</td>\n",
       "      <td>2836.096759</td>\n",
       "      <td>8.250832</td>\n",
       "      <td>272.555662</td>\n",
       "      <td>2.718514</td>\n",
       "      <td>77.319998</td>\n",
       "      <td>1.335926</td>\n",
       "      <td>0.325721</td>\n",
       "    </tr>\n",
       "    <tr>\n",
       "      <th>min</th>\n",
       "      <td>18.000000</td>\n",
       "      <td>-8019.000000</td>\n",
       "      <td>1.000000</td>\n",
       "      <td>1.000000</td>\n",
       "      <td>1.000000</td>\n",
       "      <td>-1.000000</td>\n",
       "      <td>0.000000</td>\n",
       "      <td>0.000000</td>\n",
       "    </tr>\n",
       "    <tr>\n",
       "      <th>25%</th>\n",
       "      <td>33.000000</td>\n",
       "      <td>0.000000</td>\n",
       "      <td>9.000000</td>\n",
       "      <td>91.000000</td>\n",
       "      <td>1.000000</td>\n",
       "      <td>-1.000000</td>\n",
       "      <td>0.000000</td>\n",
       "      <td>0.000000</td>\n",
       "    </tr>\n",
       "    <tr>\n",
       "      <th>50%</th>\n",
       "      <td>39.000000</td>\n",
       "      <td>634.000000</td>\n",
       "      <td>17.000000</td>\n",
       "      <td>133.000000</td>\n",
       "      <td>2.000000</td>\n",
       "      <td>-1.000000</td>\n",
       "      <td>0.000000</td>\n",
       "      <td>0.000000</td>\n",
       "    </tr>\n",
       "    <tr>\n",
       "      <th>75%</th>\n",
       "      <td>48.000000</td>\n",
       "      <td>1390.000000</td>\n",
       "      <td>21.000000</td>\n",
       "      <td>361.000000</td>\n",
       "      <td>3.000000</td>\n",
       "      <td>-1.000000</td>\n",
       "      <td>0.000000</td>\n",
       "      <td>0.000000</td>\n",
       "    </tr>\n",
       "    <tr>\n",
       "      <th>max</th>\n",
       "      <td>95.000000</td>\n",
       "      <td>99717.000000</td>\n",
       "      <td>31.000000</td>\n",
       "      <td>4918.000000</td>\n",
       "      <td>63.000000</td>\n",
       "      <td>871.000000</td>\n",
       "      <td>200.000000</td>\n",
       "      <td>1.000000</td>\n",
       "    </tr>\n",
       "  </tbody>\n",
       "</table>\n",
       "</div>"
      ],
      "text/plain": [
       "                 age        balance            day       duration  \\\n",
       "count  750000.000000  750000.000000  750000.000000  750000.000000   \n",
       "mean       40.926395    1204.067397      16.117209     256.229144   \n",
       "std        10.098829    2836.096759       8.250832     272.555662   \n",
       "min        18.000000   -8019.000000       1.000000       1.000000   \n",
       "25%        33.000000       0.000000       9.000000      91.000000   \n",
       "50%        39.000000     634.000000      17.000000     133.000000   \n",
       "75%        48.000000    1390.000000      21.000000     361.000000   \n",
       "max        95.000000   99717.000000      31.000000    4918.000000   \n",
       "\n",
       "            campaign          pdays       previous              y  \n",
       "count  750000.000000  750000.000000  750000.000000  750000.000000  \n",
       "mean        2.577008      22.412733       0.298545       0.120651  \n",
       "std         2.718514      77.319998       1.335926       0.325721  \n",
       "min         1.000000      -1.000000       0.000000       0.000000  \n",
       "25%         1.000000      -1.000000       0.000000       0.000000  \n",
       "50%         2.000000      -1.000000       0.000000       0.000000  \n",
       "75%         3.000000      -1.000000       0.000000       0.000000  \n",
       "max        63.000000     871.000000     200.000000       1.000000  "
      ]
     },
     "execution_count": 4,
     "metadata": {},
     "output_type": "execute_result"
    }
   ],
   "source": [
    "train_data.describe()"
   ]
  },
  {
   "cell_type": "code",
   "execution_count": 5,
   "id": "118f5746",
   "metadata": {
    "execution": {
     "iopub.execute_input": "2025-08-30T07:44:55.106607Z",
     "iopub.status.busy": "2025-08-30T07:44:55.106374Z",
     "iopub.status.idle": "2025-08-30T07:44:55.263644Z",
     "shell.execute_reply": "2025-08-30T07:44:55.262908Z"
    },
    "papermill": {
     "duration": 0.162634,
     "end_time": "2025-08-30T07:44:55.265000",
     "exception": false,
     "start_time": "2025-08-30T07:44:55.102366",
     "status": "completed"
    },
    "tags": []
   },
   "outputs": [
    {
     "data": {
      "text/plain": [
       "y           1.000000\n",
       "duration    0.519283\n",
       "balance     0.122513\n",
       "previous    0.119552\n",
       "pdays       0.089277\n",
       "age         0.009523\n",
       "day        -0.049625\n",
       "campaign   -0.075829\n",
       "Name: y, dtype: float64"
      ]
     },
     "execution_count": 5,
     "metadata": {},
     "output_type": "execute_result"
    }
   ],
   "source": [
    "# data visualization\n",
    "# numerical 7 cols (not including id)\n",
    "\n",
    "# id & target value 2 cols\n",
    "correlation = train_data.corr(numeric_only = True)\n",
    "correlation['y'].sort_values(ascending = False)\n"
   ]
  },
  {
   "cell_type": "code",
   "execution_count": 6,
   "id": "f1e3843a",
   "metadata": {
    "execution": {
     "iopub.execute_input": "2025-08-30T07:44:55.274833Z",
     "iopub.status.busy": "2025-08-30T07:44:55.274152Z",
     "iopub.status.idle": "2025-08-30T07:44:55.499966Z",
     "shell.execute_reply": "2025-08-30T07:44:55.499099Z"
    },
    "papermill": {
     "duration": 0.231569,
     "end_time": "2025-08-30T07:44:55.501189",
     "exception": false,
     "start_time": "2025-08-30T07:44:55.269620",
     "status": "completed"
    },
    "tags": []
   },
   "outputs": [
    {
     "data": {
      "image/png": "[encoded data removed]",
      "text/plain": [
       "<Figure size 640x480 with 2 Axes>"
      ]
     },
     "metadata": {},
     "output_type": "display_data"
    }
   ],
   "source": [
    "sns.heatmap(correlation[['y']], annot = True, color = 'blue')\n",
    "plt.show()"
   ]
  },
  {
   "cell_type": "code",
   "execution_count": 7,
   "id": "14e48e49",
   "metadata": {
    "execution": {
     "iopub.execute_input": "2025-08-30T07:44:55.509944Z",
     "iopub.status.busy": "2025-08-30T07:44:55.509725Z",
     "iopub.status.idle": "2025-08-30T07:44:55.610776Z",
     "shell.execute_reply": "2025-08-30T07:44:55.610075Z"
    },
    "papermill": {
     "duration": 0.106541,
     "end_time": "2025-08-30T07:44:55.611852",
     "exception": false,
     "start_time": "2025-08-30T07:44:55.505311",
     "status": "completed"
    },
    "tags": []
   },
   "outputs": [
    {
     "name": "stdout",
     "output_type": "stream",
     "text": [
      "job\n",
      "student          0.340784\n",
      "retired          0.246241\n",
      "unemployed       0.179823\n",
      "management       0.150392\n",
      "self-employed    0.129443\n",
      "unknown          0.120672\n",
      "technician       0.118321\n",
      "admin.           0.116453\n",
      "housemaid        0.084653\n",
      "services         0.082714\n",
      "entrepreneur     0.081386\n",
      "blue-collar      0.067438\n",
      "Name: y, dtype: float64\n"
     ]
    },
    {
     "data": {
      "text/plain": [
       "education\n",
       "secondary    401683\n",
       "tertiary     227508\n",
       "primary       99510\n",
       "unknown       21299\n",
       "Name: count, dtype: int64"
      ]
     },
     "execution_count": 7,
     "metadata": {},
     "output_type": "execute_result"
    }
   ],
   "source": [
    "# categorical 9 cols\n",
    "columns = ['job', 'marital','education', 'default', 'housing', 'loan', 'contact', 'month', 'poutcome']\n",
    "\n",
    "print(train_data.groupby('job')['y'].mean().sort_values(ascending = False))\n",
    "train_data['education'].value_counts().sort_values(ascending=False)\n",
    "\n",
    "# plt.figure(figsize = (20, 10))\n",
    "# sns.countplot(x = 'job', data = train_data)\n",
    "# plt.show()"
   ]
  },
  {
   "cell_type": "code",
   "execution_count": 8,
   "id": "77e5f20c",
   "metadata": {
    "execution": {
     "iopub.execute_input": "2025-08-30T07:44:55.620971Z",
     "iopub.status.busy": "2025-08-30T07:44:55.620751Z",
     "iopub.status.idle": "2025-08-30T07:45:02.143194Z",
     "shell.execute_reply": "2025-08-30T07:45:02.142537Z"
    },
    "papermill": {
     "duration": 6.528412,
     "end_time": "2025-08-30T07:45:02.144542",
     "exception": false,
     "start_time": "2025-08-30T07:44:55.616130",
     "status": "completed"
    },
    "tags": []
   },
   "outputs": [
    {
     "data": {
      "image/png": "[encoded data removed]",
      "text/plain": [
       "<Figure size 2000x1000 with 1 Axes>"
      ]
     },
     "metadata": {},
     "output_type": "display_data"
    }
   ],
   "source": [
    "plt.figure(figsize = (20, 10))\n",
    "sns.barplot(x = train_data['job'], y = train_data['y'])\n",
    "plt.show()\n",
    "# student 0.340784 retired 0.246241\n",
    "# mar    0.571355 sep    0.534755 dec    0.513291 oct    0.490004 apr    0.235654 feb    0.206801\n",
    "# poutcome success 0.764004"
   ]
  },
  {
   "cell_type": "code",
   "execution_count": 9,
   "id": "01a681f2",
   "metadata": {
    "execution": {
     "iopub.execute_input": "2025-08-30T07:45:02.155464Z",
     "iopub.status.busy": "2025-08-30T07:45:02.155237Z",
     "iopub.status.idle": "2025-08-30T07:45:08.663197Z",
     "shell.execute_reply": "2025-08-30T07:45:08.662419Z"
    },
    "papermill": {
     "duration": 6.515018,
     "end_time": "2025-08-30T07:45:08.664531",
     "exception": false,
     "start_time": "2025-08-30T07:45:02.149513",
     "status": "completed"
    },
    "tags": []
   },
   "outputs": [
    {
     "data": {
      "image/png": "[encoded data removed]",
      "text/plain": [
       "<Figure size 2000x1000 with 1 Axes>"
      ]
     },
     "metadata": {},
     "output_type": "display_data"
    }
   ],
   "source": [
    "plt.figure(figsize = (20, 10))\n",
    "sns.barplot(x = train_data['education'], y = train_data['y'])\n",
    "plt.show()"
   ]
  },
  {
   "cell_type": "code",
   "execution_count": 10,
   "id": "6e45f581",
   "metadata": {
    "execution": {
     "iopub.execute_input": "2025-08-30T07:45:08.675115Z",
     "iopub.status.busy": "2025-08-30T07:45:08.674900Z",
     "iopub.status.idle": "2025-08-30T07:45:09.173730Z",
     "shell.execute_reply": "2025-08-30T07:45:09.172989Z"
    },
    "papermill": {
     "duration": 0.50541,
     "end_time": "2025-08-30T07:45:09.175043",
     "exception": false,
     "start_time": "2025-08-30T07:45:08.669633",
     "status": "completed"
    },
    "tags": []
   },
   "outputs": [
    {
     "name": "stderr",
     "output_type": "stream",
     "text": [
      "/usr/local/lib/python3.11/dist-packages/seaborn/_oldcore.py:1119: FutureWarning: use_inf_as_na option is deprecated and will be removed in a future version. Convert inf values to NaN before operating instead.\n",
      "  with pd.option_context('mode.use_inf_as_na', True):\n"
     ]
    },
    {
     "data": {
      "image/png": "[encoded data removed]",
      "text/plain": [
       "<Figure size 640x480 with 1 Axes>"
      ]
     },
     "metadata": {},
     "output_type": "display_data"
    }
   ],
   "source": [
    "# target data visualization\n",
    "target = sns.histplot(train_data['y'])\n",
    "\n",
    "# imbalanced data"
   ]
  },
  {
   "cell_type": "code",
   "execution_count": 11,
   "id": "3a6dc660",
   "metadata": {
    "execution": {
     "iopub.execute_input": "2025-08-30T07:45:09.186478Z",
     "iopub.status.busy": "2025-08-30T07:45:09.185889Z",
     "iopub.status.idle": "2025-08-30T07:45:09.578192Z",
     "shell.execute_reply": "2025-08-30T07:45:09.577136Z"
    },
    "papermill": {
     "duration": 0.399089,
     "end_time": "2025-08-30T07:45:09.579487",
     "exception": false,
     "start_time": "2025-08-30T07:45:09.180398",
     "status": "completed"
    },
    "tags": []
   },
   "outputs": [
    {
     "name": "stdout",
     "output_type": "stream",
     "text": [
      "age          0\n",
      "job          0\n",
      "marital      0\n",
      "education    0\n",
      "default      0\n",
      "balance      0\n",
      "housing      0\n",
      "loan         0\n",
      "contact      0\n",
      "day          0\n",
      "month        0\n",
      "duration     0\n",
      "campaign     0\n",
      "pdays        0\n",
      "previous     0\n",
      "poutcome     0\n",
      "y            0\n",
      "dtype: int64\n",
      "age          0\n",
      "job          0\n",
      "marital      0\n",
      "education    0\n",
      "default      0\n",
      "balance      0\n",
      "housing      0\n",
      "loan         0\n",
      "contact      0\n",
      "day          0\n",
      "month        0\n",
      "duration     0\n",
      "campaign     0\n",
      "pdays        0\n",
      "previous     0\n",
      "poutcome     0\n",
      "dtype: int64\n"
     ]
    }
   ],
   "source": [
    "# missing value\n",
    "miss_value = train_data.isnull().sum()\n",
    "print(miss_value)\n",
    "miss2_value = test_data.isnull().sum()\n",
    "print(miss2_value)\n",
    "\n",
    "# dont have to deal with the missing value"
   ]
  },
  {
   "cell_type": "code",
   "execution_count": 12,
   "id": "3e175460",
   "metadata": {
    "execution": {
     "iopub.execute_input": "2025-08-30T07:45:09.590593Z",
     "iopub.status.busy": "2025-08-30T07:45:09.590358Z",
     "iopub.status.idle": "2025-08-30T07:45:10.931604Z",
     "shell.execute_reply": "2025-08-30T07:45:10.930549Z"
    },
    "papermill": {
     "duration": 1.348179,
     "end_time": "2025-08-30T07:45:10.932949",
     "exception": false,
     "start_time": "2025-08-30T07:45:09.584770",
     "status": "completed"
    },
    "tags": []
   },
   "outputs": [
    {
     "name": "stdout",
     "output_type": "stream",
     "text": [
      "Encoding finished\n"
     ]
    }
   ],
   "source": [
    "# data preprocessing\n",
    "# One-Hot Encoding\n",
    "columns = ['job', 'marital','education', 'default', 'housing', 'loan', 'contact', 'month', 'poutcome']\n",
    "\n",
    "train_data['source'] = 'train'\n",
    "test_data['source'] = 'test'\n",
    "\n",
    "data = pd.concat([train_data, test_data], axis = 0)\n",
    "data = pd.get_dummies(data, columns = columns, drop_first = False)\n",
    "\n",
    "train_data = data[data['source']=='train'].drop('source', axis = 1)\n",
    "test_data = data[data['source']=='test'].drop('source', axis = 1)\n",
    "\n",
    "print('Encoding finished')"
   ]
  },
  {
   "cell_type": "code",
   "execution_count": 13,
   "id": "0a7e92db",
   "metadata": {
    "execution": {
     "iopub.execute_input": "2025-08-30T07:45:10.946555Z",
     "iopub.status.busy": "2025-08-30T07:45:10.946316Z",
     "iopub.status.idle": "2025-08-30T07:45:10.949361Z",
     "shell.execute_reply": "2025-08-30T07:45:10.948922Z"
    },
    "papermill": {
     "duration": 0.011,
     "end_time": "2025-08-30T07:45:10.950461",
     "exception": false,
     "start_time": "2025-08-30T07:45:10.939461",
     "status": "completed"
    },
    "tags": []
   },
   "outputs": [],
   "source": [
    "# data preprocessing\n",
    "# Label Encoding\n",
    "# one_hot_columns = ['job', 'marital', 'default', 'housing', 'loan', 'contact', 'poutcome']\n",
    "# label_columns = ['education', 'month']\n",
    "\n",
    "# for col in label_columns:\n",
    "#     encoder = LabelEncoder()\n",
    "#     train_data[col] = encoder.fit_transform(train_data[col])\n",
    "#     test_data[col] = encoder.transform(test_data[col])\n",
    "# train_data = pd.get_dummies(train_data)\n",
    "# test_data = pd.get_dummies(test_data)\n",
    "# print('Encoding finished')"
   ]
  },
  {
   "cell_type": "code",
   "execution_count": 14,
   "id": "98dc510c",
   "metadata": {
    "execution": {
     "iopub.execute_input": "2025-08-30T07:45:10.967981Z",
     "iopub.status.busy": "2025-08-30T07:45:10.967750Z",
     "iopub.status.idle": "2025-08-30T07:45:11.042174Z",
     "shell.execute_reply": "2025-08-30T07:45:11.041461Z"
    },
    "papermill": {
     "duration": 0.083902,
     "end_time": "2025-08-30T07:45:11.044197",
     "exception": false,
     "start_time": "2025-08-30T07:45:10.960295",
     "status": "completed"
    },
    "tags": []
   },
   "outputs": [
    {
     "name": "stdout",
     "output_type": "stream",
     "text": [
      "        age  balance  day  duration  campaign  pdays  previous    y  \\\n",
      "id                                                                    \n",
      "0        42        7   25       117         3     -1         0  0.0   \n",
      "1        38      514   18       185         1     -1         0  0.0   \n",
      "2        36      602   14       111         2     -1         0  0.0   \n",
      "3        27       34   28        10         2     -1         0  0.0   \n",
      "4        26      889    3       902         1     -1         0  1.0   \n",
      "...     ...      ...  ...       ...       ...    ...       ...  ...   \n",
      "749995   29     1282    4      1006         2     -1         0  1.0   \n",
      "749996   69      631   19        87         1     -1         0  0.0   \n",
      "749997   50      217   17       113         1     -1         0  0.0   \n",
      "749998   32     -274   26       108         6     -1         0  0.0   \n",
      "749999   42     1559    4       143         1      1         7  0.0   \n",
      "\n",
      "        job_admin.  job_blue-collar  ...  month_jun  month_mar  month_may  \\\n",
      "id                                   ...                                    \n",
      "0            False            False  ...      False      False      False   \n",
      "1            False             True  ...       True      False      False   \n",
      "2            False             True  ...      False      False       True   \n",
      "3            False            False  ...      False      False       True   \n",
      "4            False            False  ...      False      False      False   \n",
      "...            ...              ...  ...        ...        ...        ...   \n",
      "749995       False            False  ...      False      False      False   \n",
      "749996       False            False  ...      False      False      False   \n",
      "749997       False             True  ...      False      False      False   \n",
      "749998       False            False  ...      False      False      False   \n",
      "749999       False            False  ...      False      False      False   \n",
      "\n",
      "        month_nov  month_oct  month_sep  poutcome_failure  poutcome_other  \\\n",
      "id                                                                          \n",
      "0           False      False      False             False           False   \n",
      "1           False      False      False             False           False   \n",
      "2           False      False      False             False           False   \n",
      "3           False      False      False             False           False   \n",
      "4           False      False      False             False           False   \n",
      "...           ...        ...        ...               ...             ...   \n",
      "749995      False      False      False             False           False   \n",
      "749996      False      False      False             False           False   \n",
      "749997      False      False      False             False           False   \n",
      "749998      False      False      False             False           False   \n",
      "749999      False      False      False              True           False   \n",
      "\n",
      "        poutcome_success  poutcome_unknown  \n",
      "id                                          \n",
      "0                  False              True  \n",
      "1                  False              True  \n",
      "2                  False              True  \n",
      "3                  False              True  \n",
      "4                  False              True  \n",
      "...                  ...               ...  \n",
      "749995             False              True  \n",
      "749996             False              True  \n",
      "749997             False              True  \n",
      "749998             False              True  \n",
      "749999             False             False  \n",
      "\n",
      "[750000 rows x 52 columns]\n",
      "        age  balance  day  duration  campaign  pdays  previous   y  \\\n",
      "id                                                                   \n",
      "750000   32     1397   21       224         1     -1         0 NaN   \n",
      "750001   44       23    3       586         2     -1         0 NaN   \n",
      "750002   36       46   13       111         2     -1         0 NaN   \n",
      "750003   58    -1380   29       125         1     -1         0 NaN   \n",
      "750004   28     1950   22       181         1     -1         0 NaN   \n",
      "...     ...      ...  ...       ...       ...    ...       ...  ..   \n",
      "999995   43        0   18        65         2     -1         0 NaN   \n",
      "999996   40      522   19       531         1    189         1 NaN   \n",
      "999997   63       33    3       178         1     92         8 NaN   \n",
      "999998   50     2629   30       163         2     -1         0 NaN   \n",
      "999999   29      722    6       119         1     -1         0 NaN   \n",
      "\n",
      "        job_admin.  job_blue-collar  ...  month_jun  month_mar  month_may  \\\n",
      "id                                   ...                                    \n",
      "750000       False             True  ...      False      False       True   \n",
      "750001       False            False  ...      False      False      False   \n",
      "750002       False            False  ...      False      False       True   \n",
      "750003       False             True  ...      False      False       True   \n",
      "750004       False            False  ...      False      False      False   \n",
      "...            ...              ...  ...        ...        ...        ...   \n",
      "999995       False            False  ...      False      False      False   \n",
      "999996       False            False  ...      False      False      False   \n",
      "999997       False            False  ...      False      False      False   \n",
      "999998       False             True  ...      False      False       True   \n",
      "999999       False            False  ...      False      False      False   \n",
      "\n",
      "        month_nov  month_oct  month_sep  poutcome_failure  poutcome_other  \\\n",
      "id                                                                          \n",
      "750000      False      False      False             False           False   \n",
      "750001      False      False      False             False           False   \n",
      "750002      False      False      False             False           False   \n",
      "750003      False      False      False             False           False   \n",
      "750004      False      False      False             False           False   \n",
      "...           ...        ...        ...               ...             ...   \n",
      "999995       True      False      False             False           False   \n",
      "999996       True      False      False              True           False   \n",
      "999997      False      False      False             False           False   \n",
      "999998      False      False      False             False           False   \n",
      "999999      False      False      False             False           False   \n",
      "\n",
      "        poutcome_success  poutcome_unknown  \n",
      "id                                          \n",
      "750000             False              True  \n",
      "750001             False              True  \n",
      "750002             False              True  \n",
      "750003             False              True  \n",
      "750004             False              True  \n",
      "...                  ...               ...  \n",
      "999995             False              True  \n",
      "999996             False             False  \n",
      "999997              True             False  \n",
      "999998             False              True  \n",
      "999999             False              True  \n",
      "\n",
      "[250000 rows x 52 columns]\n"
     ]
    },
    {
     "name": "stderr",
     "output_type": "stream",
     "text": [
      "/usr/local/lib/python3.11/dist-packages/pandas/io/formats/format.py:1458: RuntimeWarning: invalid value encountered in greater\n",
      "  has_large_values = (abs_vals > 1e6).any()\n",
      "/usr/local/lib/python3.11/dist-packages/pandas/io/formats/format.py:1459: RuntimeWarning: invalid value encountered in less\n",
      "  has_small_values = ((abs_vals < 10 ** (-self.digits)) & (abs_vals > 0)).any()\n",
      "/usr/local/lib/python3.11/dist-packages/pandas/io/formats/format.py:1459: RuntimeWarning: invalid value encountered in greater\n",
      "  has_small_values = ((abs_vals < 10 ** (-self.digits)) & (abs_vals > 0)).any()\n"
     ]
    }
   ],
   "source": [
    "print(train_data)\n",
    "print(test_data)"
   ]
  },
  {
   "cell_type": "code",
   "execution_count": 15,
   "id": "3216279e",
   "metadata": {
    "execution": {
     "iopub.execute_input": "2025-08-30T07:45:11.056292Z",
     "iopub.status.busy": "2025-08-30T07:45:11.056069Z",
     "iopub.status.idle": "2025-08-30T07:45:11.059715Z",
     "shell.execute_reply": "2025-08-30T07:45:11.059093Z"
    },
    "papermill": {
     "duration": 0.011064,
     "end_time": "2025-08-30T07:45:11.060802",
     "exception": false,
     "start_time": "2025-08-30T07:45:11.049738",
     "status": "completed"
    },
    "tags": []
   },
   "outputs": [
    {
     "name": "stdout",
     "output_type": "stream",
     "text": [
      "Different columns: set()\n"
     ]
    }
   ],
   "source": [
    "diff_cols = set(train_data.columns).symmetric_difference(test_data.columns)\n",
    "print(\"Different columns:\", diff_cols)"
   ]
  },
  {
   "cell_type": "code",
   "execution_count": 16,
   "id": "93dbc474",
   "metadata": {
    "execution": {
     "iopub.execute_input": "2025-08-30T07:45:11.072177Z",
     "iopub.status.busy": "2025-08-30T07:45:11.071964Z",
     "iopub.status.idle": "2025-08-30T07:45:11.297981Z",
     "shell.execute_reply": "2025-08-30T07:45:11.297113Z"
    },
    "papermill": {
     "duration": 0.233111,
     "end_time": "2025-08-30T07:45:11.299304",
     "exception": false,
     "start_time": "2025-08-30T07:45:11.066193",
     "status": "completed"
    },
    "tags": []
   },
   "outputs": [
    {
     "name": "stdout",
     "output_type": "stream",
     "text": [
      "-----------Training start-----------\n",
      "-----------Training  finished-----------\n"
     ]
    }
   ],
   "source": [
    "# Model training and hyperparameter tuning \n",
    "\n",
    "# 0.9665 xgboost\n",
    "\n",
    "# rate = 0.2\n",
    "# max_d = 7\n",
    "# estimators = 200\n",
    "\n",
    "# 0.9670 0.1 9 300\n",
    "\n",
    "X = train_data.drop(['y'], axis = 1)\n",
    "y = train_data['y']\n",
    "\n",
    "model = XGBClassifier(objective = 'binary:logistic', use_label_encoder = False, random_state = 42)\n",
    "X_train, X_test, y_train, y_test = train_test_split(X, y, test_size=0.3, random_state=42)\n",
    "\n",
    "cv = StratifiedKFold(n_splits = 3, shuffle = True, random_state = 42)\n",
    "\n",
    "param_grid = {\n",
    "    'n_estimators': [300, 350],\n",
    "    'max_depth': [7, 9, 11],\n",
    "    'learning_rate':[0.1, 0.2],  \n",
    "    'subsample': [0.8, 1],\n",
    "    'colsample_bytree': [0.8, 1],\n",
    "}\n",
    "print('-----------Training start-----------')\n",
    "\n",
    "# grid_search = GridSearchCV(model, param_grid, cv = cv, scoring = 'roc_auc', n_jobs = -1, verbose = 2)\n",
    "\n",
    "# grid_search.fit(X_train, y_train)\n",
    "\n",
    "# print('best parameter', grid_search.best_params_)\n",
    "# print('best score', grid_search.best_score_)\n",
    "\n",
    "# best_model = grid_search.best_estimator_\n",
    "# pred = best_model.predict_proba(X_test)[:, 1]\n",
    "\n",
    "# score = roc_auc_score(y_test, pred)\n",
    "\n",
    "# print('ROC_AUC score: ', score)\n",
    "\n",
    "print('-----------Training  finished-----------')"
   ]
  },
  {
   "cell_type": "code",
   "execution_count": 17,
   "id": "d551c604",
   "metadata": {
    "execution": {
     "iopub.execute_input": "2025-08-30T07:45:11.311234Z",
     "iopub.status.busy": "2025-08-30T07:45:11.311013Z",
     "iopub.status.idle": "2025-08-30T07:45:28.429642Z",
     "shell.execute_reply": "2025-08-30T07:45:28.428728Z"
    },
    "papermill": {
     "duration": 17.125987,
     "end_time": "2025-08-30T07:45:28.430971",
     "exception": false,
     "start_time": "2025-08-30T07:45:11.304984",
     "status": "completed"
    },
    "tags": []
   },
   "outputs": [
    {
     "name": "stdout",
     "output_type": "stream",
     "text": [
      "ROC AUC: 0.9672943919457443\n"
     ]
    }
   ],
   "source": [
    "# Testing (by using XGBoost)\n",
    "\n",
    "X = train_data.drop(['y'], axis = 1)\n",
    "y = train_data['y']\n",
    "\n",
    "X_train, X_test, y_train, y_test = train_test_split(X, y, test_size=0.3, random_state=42)\n",
    "\n",
    "model = XGBClassifier(\n",
    "    n_estimators=350,      \n",
    "    max_depth=9,           \n",
    "    learning_rate=0.1,     \n",
    "    scale_pos_weight=1,  \n",
    "    colsample_bytree=0.8,\n",
    "    random_state=42,\n",
    "    use_label_encoder=False\n",
    ")\n",
    "\n",
    "# 訓練模型\n",
    "model.fit(X_train, y_train)\n",
    "\n",
    "# 預測機率\n",
    "y_pred_prob = model.predict_proba(X_test)[:, 1]\n",
    "\n",
    "# 評估 ROC AUC\n",
    "auc = roc_auc_score(y_test, y_pred_prob)\n",
    "\n",
    "print(\"ROC AUC:\", auc)\n",
    "# 0.966648225431641\n",
    "#0.9671532001936101 300 9 0.1 0.8\n",
    "#0.9670769448458383 250 9 0.1 0.8\n",
    "#0.9665046590967138 200 7 0.2 0.8"
   ]
  },
  {
   "cell_type": "code",
   "execution_count": 18,
   "id": "5ba1a076",
   "metadata": {
    "execution": {
     "iopub.execute_input": "2025-08-30T07:45:28.444320Z",
     "iopub.status.busy": "2025-08-30T07:45:28.444064Z",
     "iopub.status.idle": "2025-08-30T07:45:52.819109Z",
     "shell.execute_reply": "2025-08-30T07:45:52.818271Z"
    },
    "papermill": {
     "duration": 24.383002,
     "end_time": "2025-08-30T07:45:52.820386",
     "exception": false,
     "start_time": "2025-08-30T07:45:28.437384",
     "status": "completed"
    },
    "tags": []
   },
   "outputs": [
    {
     "name": "stdout",
     "output_type": "stream",
     "text": [
      "Prediction finished\n"
     ]
    }
   ],
   "source": [
    "# Final model training\n",
    "\n",
    "X_train = train_data.drop(['y'], axis = 1)\n",
    "y_train = train_data['y']\n",
    "X_test = test_data.drop(['y'], axis = 1)\n",
    "\n",
    "model = XGBClassifier(\n",
    "    n_estimators=350,      \n",
    "    max_depth=9,           \n",
    "    learning_rate=0.1,     \n",
    "    scale_pos_weight=1,  \n",
    "    colsample_bytree=0.8,\n",
    "    random_state=42,\n",
    "    use_label_encoder=False\n",
    ")\n",
    "\n",
    "\n",
    "model.fit(X_train, y_train)\n",
    "\n",
    "pred = model.predict_proba(X_test)[:, 1]\n",
    "\n",
    "print('Prediction finished')\n",
    "\n"
   ]
  },
  {
   "cell_type": "code",
   "execution_count": 19,
   "id": "ddd55ab0",
   "metadata": {
    "execution": {
     "iopub.execute_input": "2025-08-30T07:45:52.832913Z",
     "iopub.status.busy": "2025-08-30T07:45:52.832641Z",
     "iopub.status.idle": "2025-08-30T07:45:53.218607Z",
     "shell.execute_reply": "2025-08-30T07:45:53.217930Z"
    },
    "papermill": {
     "duration": 0.393449,
     "end_time": "2025-08-30T07:45:53.219692",
     "exception": false,
     "start_time": "2025-08-30T07:45:52.826243",
     "status": "completed"
    },
    "tags": []
   },
   "outputs": [
    {
     "name": "stdout",
     "output_type": "stream",
     "text": [
      "[1.3753951e-03 7.6203108e-02 1.6136029e-04 ... 7.5807130e-01 8.6399465e-04\n",
      " 1.3111775e-01]\n",
      "submission finished\n"
     ]
    },
    {
     "data": {
      "text/html": [
       "<div>\n",
       "<style scoped>\n",
       "    .dataframe tbody tr th:only-of-type {\n",
       "        vertical-align: middle;\n",
       "    }\n",
       "\n",
       "    .dataframe tbody tr th {\n",
       "        vertical-align: top;\n",
       "    }\n",
       "\n",
       "    .dataframe thead th {\n",
       "        text-align: right;\n",
       "    }\n",
       "</style>\n",
       "<table border=\"1\" class=\"dataframe\">\n",
       "  <thead>\n",
       "    <tr style=\"text-align: right;\">\n",
       "      <th></th>\n",
       "      <th>id</th>\n",
       "      <th>y</th>\n",
       "    </tr>\n",
       "  </thead>\n",
       "  <tbody>\n",
       "    <tr>\n",
       "      <th>0</th>\n",
       "      <td>750000</td>\n",
       "      <td>0.001375</td>\n",
       "    </tr>\n",
       "    <tr>\n",
       "      <th>1</th>\n",
       "      <td>750001</td>\n",
       "      <td>0.076203</td>\n",
       "    </tr>\n",
       "    <tr>\n",
       "      <th>2</th>\n",
       "      <td>750002</td>\n",
       "      <td>0.000161</td>\n",
       "    </tr>\n",
       "    <tr>\n",
       "      <th>3</th>\n",
       "      <td>750003</td>\n",
       "      <td>0.000078</td>\n",
       "    </tr>\n",
       "    <tr>\n",
       "      <th>4</th>\n",
       "      <td>750004</td>\n",
       "      <td>0.012313</td>\n",
       "    </tr>\n",
       "  </tbody>\n",
       "</table>\n",
       "</div>"
      ],
      "text/plain": [
       "       id         y\n",
       "0  750000  0.001375\n",
       "1  750001  0.076203\n",
       "2  750002  0.000161\n",
       "3  750003  0.000078\n",
       "4  750004  0.012313"
      ]
     },
     "execution_count": 19,
     "metadata": {},
     "output_type": "execute_result"
    }
   ],
   "source": [
    "# submission\n",
    "print(pred)\n",
    "submission = pd.DataFrame({\n",
    "    'id': sample_sub['id'],\n",
    "    'y': pred\n",
    "})\n",
    "\n",
    "submission.to_csv('submission.csv', index = False)\n",
    "\n",
    "print('submission finished')\n",
    "\n",
    "submission.head(5)"
   ]
  }
 ],
 "metadata": {
  "kaggle": {
   "accelerator": "gpu",
   "dataSources": [
    {
     "databundleVersionId": 12937777,
     "sourceId": 91719,
     "sourceType": "competition"
    }
   ],
   "dockerImageVersionId": 31089,
   "isGpuEnabled": true,
   "isInternetEnabled": true,
   "language": "python",
   "sourceType": "notebook"
  },
  "kernelspec": {
   "display_name": "Python 3",
   "language": "python",
   "name": "python3"
  },
  "language_info": {
   "codemirror_mode": {
    "name": "ipython",
    "version": 3
   },
   "file_extension": ".py",
   "mimetype": "text/x-python",
   "name": "python",
   "nbconvert_exporter": "python",
   "pygments_lexer": "ipython3",
   "version": "3.11.13"
  },
  "papermill": {
   "default_parameters": {},
   "duration": 68.76781,
   "end_time": "2025-08-30T07:45:53.742646",
   "environment_variables": {},
   "exception": null,
   "input_path": "__notebook__.ipynb",
   "output_path": "__notebook__.ipynb",
   "parameters": {},
   "start_time": "2025-08-30T07:44:44.974836",
   "version": "2.6.0"
  }
 },
 "nbformat": 4,
 "nbformat_minor": 5
}
